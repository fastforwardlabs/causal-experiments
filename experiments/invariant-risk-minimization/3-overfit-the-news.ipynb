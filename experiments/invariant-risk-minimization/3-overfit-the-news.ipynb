{
 "cells": [
  {
   "cell_type": "markdown",
   "metadata": {},
   "source": [
    "# Overfit news popularity\n",
    "\n",
    "In the previous notebook, we tried to fit IRM with a linear model. Here, we'll try to overfit the news with an neural network (we'll include the pieces for IRM, but turn it off at first, and turn it on again if it works), just to make sure we can actually model the dataset."
   ]
  },
  {
   "cell_type": "markdown",
   "metadata": {},
   "source": [
    "## Imports"
   ]
  },
  {
   "cell_type": "code",
   "execution_count": 1,
   "metadata": {},
   "outputs": [],
   "source": [
    "import pandas as pd\n",
    "import numpy as np\n",
    "\n",
    "import torch\n",
    "import torch.nn.functional as F\n",
    "from torch import nn, optim\n",
    "from torch.autograd import grad"
   ]
  },
  {
   "cell_type": "markdown",
   "metadata": {},
   "source": [
    "## Read data"
   ]
  },
  {
   "cell_type": "markdown",
   "metadata": {},
   "source": [
    "Part of the reason this dataset seems hard to model is the wide range of the target. We'll take the log to try and make the technical learning problem easier."
   ]
  },
  {
   "cell_type": "code",
   "execution_count": 2,
   "metadata": {},
   "outputs": [],
   "source": [
    "df = pd.read_csv('../../data/OnlineNewsPopularity/OnlineNewsPopularity.csv')\n",
    "df.columns = df.columns.map(str.strip) # remove leading spaces from column names\n",
    "df['shares'] = df['shares'].apply(np.log)"
   ]
  },
  {
   "cell_type": "markdown",
   "metadata": {},
   "source": [
    "## Split data into environments\n",
    "\n",
    "We'll split on the number of days since release, which covers almost two years. We can experiment with how many environments we create."
   ]
  },
  {
   "cell_type": "code",
   "execution_count": 3,
   "metadata": {},
   "outputs": [
    {
     "name": "stdout",
     "output_type": "stream",
     "text": [
      "min timedelta:  8.0\n",
      "max timedelta:  731.0\n"
     ]
    },
    {
     "data": {
      "text/plain": [
       "<matplotlib.axes._subplots.AxesSubplot at 0x1313eb080>"
      ]
     },
     "execution_count": 3,
     "metadata": {},
     "output_type": "execute_result"
    },
    {
     "data": {
      "image/png": "[encoded data removed]",
      "text/plain": [
       "<Figure size 432x288 with 1 Axes>"
      ]
     },
     "metadata": {
      "needs_background": "light"
     },
     "output_type": "display_data"
    }
   ],
   "source": [
    "print('min timedelta: ', df.timedelta.min())\n",
    "print('max timedelta: ', df.timedelta.max())\n",
    "df.timedelta.hist()"
   ]
  },
  {
   "cell_type": "code",
   "execution_count": 4,
   "metadata": {},
   "outputs": [],
   "source": [
    "environment_1_df = df[df.timedelta < 180]\n",
    "environment_2_df = df[(df.timedelta >= 180) & (df.timedelta < 360)]\n",
    "environment_3_df = df[(df.timedelta >= 360) & (df.timedelta < 540)]\n",
    "environment_4_df = df[(df.timedelta >= 540)]"
   ]
  },
  {
   "cell_type": "markdown",
   "metadata": {},
   "source": [
    "Are our environments about equally sized?"
   ]
  },
  {
   "cell_type": "code",
   "execution_count": 5,
   "metadata": {},
   "outputs": [
    {
     "data": {
      "text/plain": [
       "[10866, 9993, 8690, 10095]"
      ]
     },
     "execution_count": 5,
     "metadata": {},
     "output_type": "execute_result"
    }
   ],
   "source": [
    "[x for x in map(len, [environment_1_df, environment_2_df, environment_3_df, environment_4_df])]"
   ]
  },
  {
   "cell_type": "markdown",
   "metadata": {},
   "source": [
    "Close enough.\n",
    "\n",
    "## IRM on two environments\n",
    "\n",
    "We'll first perform IRM on two environments to arrive an invariant representation. We'll then test the performance of the IRM representation vs a non-IRM learned version on the two holdout environments.\n",
    "\n",
    "Part of the reason the data may be hard to fit is the wide domain of the number of shares."
   ]
  },
  {
   "cell_type": "code",
   "execution_count": 6,
   "metadata": {},
   "outputs": [],
   "source": [
    "def df_to_tensors(df):\n",
    "    features = torch.tensor(\n",
    "        df.drop(['url','timedelta','shares'],\n",
    "                axis='columns')\n",
    "          .to_numpy()\n",
    "    ).double()\n",
    "    \n",
    "    target = torch.tensor(\n",
    "        df['shares'].to_numpy()\n",
    "    ).unsqueeze(1).double()\n",
    "    \n",
    "    return (features, target)"
   ]
  },
  {
   "cell_type": "code",
   "execution_count": 7,
   "metadata": {},
   "outputs": [],
   "source": [
    "env_1_tensors = df_to_tensors(environment_1_df)\n",
    "env_2_tensors = df_to_tensors(environment_2_df)\n",
    "env_3_tensors = df_to_tensors(environment_3_df)\n",
    "env_4_tensors = df_to_tensors(environment_4_df)"
   ]
  },
  {
   "cell_type": "code",
   "execution_count": 8,
   "metadata": {},
   "outputs": [],
   "source": [
    "n_features = env_1_tensors[0].shape[1]"
   ]
  },
  {
   "cell_type": "code",
   "execution_count": 9,
   "metadata": {},
   "outputs": [],
   "source": [
    "train_environments = [env_1_tensors, env_2_tensors]\n",
    "holdout_environments = [env_3_tensors, env_4_tensors]"
   ]
  },
  {
   "cell_type": "code",
   "execution_count": 10,
   "metadata": {},
   "outputs": [],
   "source": [
    "HIDDEN_DIM = 100 # this feels like plenty of capacity for ~10,000 data points per environment"
   ]
  },
  {
   "cell_type": "code",
   "execution_count": 11,
   "metadata": {},
   "outputs": [],
   "source": [
    "class NN(nn.Module):\n",
    "    def __init__(self, n_features, hidden_dim):\n",
    "        super(NN, self).__init__()\n",
    "        self.layer1 = nn.Linear(n_features, hidden_dim).double()\n",
    "        self.layer2 = nn.Linear(hidden_dim, hidden_dim).double()\n",
    "        self.layer3 = nn.Linear(hidden_dim, hidden_dim).double()\n",
    "        self.layer4 = nn.Linear(hidden_dim, hidden_dim).double()\n",
    "        self.layer5 = nn.Linear(hidden_dim, 1).double()\n",
    "        \n",
    "    def forward(self, x):\n",
    "        x = F.relu(self.layer1(x))\n",
    "        x = F.relu(self.layer2(x))\n",
    "        x = F.relu(self.layer3(x))\n",
    "        x = F.relu(self.layer4(x))\n",
    "        x = self.layer5(x)\n",
    "        return x"
   ]
  },
  {
   "cell_type": "code",
   "execution_count": 12,
   "metadata": {},
   "outputs": [],
   "source": [
    "# split into two random mini-batches of size b (random happens in the iteration)\n",
    "# an unbiased estimate of the squared gradient norm\n",
    "\n",
    "def compute_penalty(losses, dummy_w):\n",
    "    g1 = grad(losses[0::2].mean(), dummy_w, create_graph=True)[0]\n",
    "    g2 = grad(losses[1::2].mean(), dummy_w, create_graph=True)[0]\n",
    "    return (g1 * g2).sum()"
   ]
  },
  {
   "cell_type": "code",
   "execution_count": 13,
   "metadata": {},
   "outputs": [],
   "source": [
    "net = NN(n_features, HIDDEN_DIM)"
   ]
  },
  {
   "cell_type": "code",
   "execution_count": 14,
   "metadata": {},
   "outputs": [],
   "source": [
    "dummy_w = nn.Parameter(torch.Tensor([1.0]))\n",
    "opt = optim.Adam(net.parameters(), lr=1e-3)\n",
    "mse = nn.MSELoss(reduction=\"none\")"
   ]
  },
  {
   "cell_type": "markdown",
   "metadata": {},
   "source": [
    "We could probably speed up training by scaling (min-max or z-score) the input features."
   ]
  },
  {
   "cell_type": "code",
   "execution_count": 15,
   "metadata": {},
   "outputs": [],
   "source": [
    "# This IRM penalty weight. Should be searched over.\n",
    "# May need annealing (holding low to start), as in author's MNIST implementation.\n",
    "# We'll turn off the IRM penalty to begin with, and see if we can overfit the dataset\n",
    "# (i.e. discover if this is a learnable problem)\n",
    "LAMBDA = 1e0"
   ]
  },
  {
   "cell_type": "code",
   "execution_count": 16,
   "metadata": {},
   "outputs": [
    {
     "name": "stdout",
     "output_type": "stream",
     "text": [
      "iteration: 0, loss: 68271.20762085661\n",
      "iteration: 10, loss: 1024983.901562671\n",
      "iteration: 20, loss: 155259.04266475065\n",
      "iteration: 30, loss: 5487.282879941637\n",
      "iteration: 40, loss: 14293.898795726618\n",
      "iteration: 50, loss: 10949.871069103277\n",
      "iteration: 60, loss: 2466.5478272877895\n",
      "iteration: 70, loss: 748.9011142960085\n",
      "iteration: 80, loss: 758.5602830837008\n",
      "iteration: 90, loss: 409.4144654159728\n",
      "iteration: 100, loss: 381.3093534190512\n",
      "iteration: 110, loss: 305.4051928183599\n",
      "iteration: 120, loss: 265.92813371816055\n",
      "iteration: 130, loss: 239.0415656367238\n",
      "iteration: 140, loss: 212.87855075805408\n",
      "iteration: 150, loss: 189.48683957621375\n",
      "iteration: 160, loss: 168.94400069299775\n",
      "iteration: 170, loss: 150.10972294447816\n",
      "iteration: 180, loss: 133.9317657056451\n",
      "iteration: 190, loss: 119.92497615653926\n",
      "iteration: 200, loss: 106.8158086826165\n",
      "iteration: 210, loss: 96.18002777588072\n",
      "iteration: 220, loss: 90.12272874929229\n",
      "iteration: 230, loss: 84.62623866539123\n",
      "iteration: 240, loss: 79.43803912801802\n",
      "iteration: 250, loss: 75.1646447374182\n",
      "iteration: 260, loss: 71.27294107926653\n",
      "iteration: 270, loss: 67.6016358998506\n",
      "iteration: 280, loss: 63.84800406880785\n",
      "iteration: 290, loss: 60.443020958454184\n",
      "iteration: 300, loss: 57.54568920298762\n",
      "iteration: 310, loss: 55.014455963430436\n",
      "iteration: 320, loss: 52.60957263774044\n",
      "iteration: 330, loss: 50.47410892156748\n",
      "iteration: 340, loss: 48.933661889651894\n",
      "iteration: 350, loss: 47.08244061546439\n",
      "iteration: 360, loss: 45.43345349967995\n",
      "iteration: 370, loss: 43.751919850261366\n",
      "iteration: 380, loss: 42.31661484417994\n",
      "iteration: 390, loss: 41.21087061300574\n",
      "iteration: 400, loss: 40.03328251398074\n",
      "iteration: 410, loss: 38.7893584406191\n",
      "iteration: 420, loss: 37.54100912316216\n",
      "iteration: 430, loss: 36.508634448509156\n",
      "iteration: 440, loss: 35.40744611899413\n",
      "iteration: 450, loss: 34.56514105876431\n",
      "iteration: 460, loss: 33.46311467055462\n",
      "iteration: 470, loss: 32.581606872917234\n",
      "iteration: 480, loss: 31.64263055479791\n",
      "iteration: 490, loss: 30.726421435777564\n",
      "iteration: 500, loss: 29.942214186373917\n",
      "iteration: 510, loss: 29.180266499268857\n",
      "iteration: 520, loss: 28.384552116207395\n",
      "iteration: 530, loss: 27.73159920001919\n",
      "iteration: 540, loss: 26.98903338658436\n",
      "iteration: 550, loss: 26.29920056758939\n",
      "iteration: 560, loss: 25.80800795527818\n",
      "iteration: 570, loss: 25.128286073280464\n",
      "iteration: 580, loss: 24.44427110492223\n",
      "iteration: 590, loss: 24.312770052995305\n",
      "iteration: 600, loss: 23.615833576841837\n",
      "iteration: 610, loss: 23.078324976103374\n",
      "iteration: 620, loss: 22.683520631272216\n",
      "iteration: 630, loss: 22.2907281545422\n",
      "iteration: 640, loss: 21.7918882774726\n",
      "iteration: 650, loss: 22.49298198299531\n",
      "iteration: 660, loss: 21.122386729951423\n",
      "iteration: 670, loss: 20.802249101288446\n",
      "iteration: 680, loss: 20.58401543270518\n",
      "iteration: 690, loss: 20.110763008920635\n",
      "iteration: 700, loss: 19.752315451282357\n",
      "iteration: 710, loss: 19.432385916642243\n",
      "iteration: 720, loss: 19.151714940564123\n",
      "iteration: 730, loss: 20.5035494870655\n",
      "iteration: 740, loss: 18.533512626634526\n",
      "iteration: 750, loss: 18.706057987009338\n",
      "iteration: 760, loss: 18.241564428939093\n",
      "iteration: 770, loss: 17.944711878237495\n",
      "iteration: 780, loss: 17.57553529474844\n",
      "iteration: 790, loss: 17.492809063224293\n",
      "iteration: 800, loss: 17.002869630102637\n",
      "iteration: 810, loss: 17.322067360477664\n",
      "iteration: 820, loss: 17.044391627938644\n",
      "iteration: 830, loss: 16.419583685821216\n",
      "iteration: 840, loss: 16.488192656193497\n",
      "iteration: 850, loss: 16.233483594881207\n",
      "iteration: 860, loss: 15.916097522528684\n",
      "iteration: 870, loss: 15.643500762312897\n",
      "iteration: 880, loss: 15.528268761165538\n",
      "iteration: 890, loss: 15.47541029232643\n",
      "iteration: 900, loss: 15.27710902071587\n",
      "iteration: 910, loss: 15.225522742456455\n",
      "iteration: 920, loss: 15.723833651914212\n",
      "iteration: 930, loss: 14.945591894347789\n",
      "iteration: 940, loss: 14.605135697738522\n",
      "iteration: 950, loss: 14.352983306636808\n",
      "iteration: 960, loss: 14.1300395547196\n",
      "iteration: 970, loss: 14.08354997285494\n",
      "iteration: 980, loss: 13.961458566578173\n",
      "iteration: 990, loss: 13.68653152719863\n",
      "iteration: 1000, loss: 13.687929405889474\n",
      "iteration: 1010, loss: 13.54912092101971\n",
      "iteration: 1020, loss: 15.415380701883747\n",
      "iteration: 1030, loss: 13.946746281887478\n",
      "iteration: 1040, loss: 13.094197740505052\n",
      "iteration: 1050, loss: 12.90221121634478\n",
      "iteration: 1060, loss: 12.628534056418907\n",
      "iteration: 1070, loss: 12.645120988952947\n",
      "iteration: 1080, loss: 12.416322526851134\n",
      "iteration: 1090, loss: 12.311555576997645\n",
      "iteration: 1100, loss: 12.349233303807118\n",
      "iteration: 1110, loss: 14.326289611989742\n",
      "iteration: 1120, loss: 12.66965823319136\n",
      "iteration: 1130, loss: 11.847053934558648\n",
      "iteration: 1140, loss: 11.597646510399997\n",
      "iteration: 1150, loss: 11.588093322576013\n",
      "iteration: 1160, loss: 11.58325415597973\n",
      "iteration: 1170, loss: 11.49444139474921\n",
      "iteration: 1180, loss: 12.180005248530696\n",
      "iteration: 1190, loss: 11.32807368104717\n",
      "iteration: 1200, loss: 11.626886906496207\n",
      "iteration: 1210, loss: 11.023159119191282\n",
      "iteration: 1220, loss: 10.899528400449604\n",
      "iteration: 1230, loss: 10.795413310314316\n",
      "iteration: 1240, loss: 10.709031620731288\n",
      "iteration: 1250, loss: 11.185983585919647\n",
      "iteration: 1260, loss: 11.374249826407421\n",
      "iteration: 1270, loss: 10.86214953908371\n",
      "iteration: 1280, loss: 10.498017583421728\n",
      "iteration: 1290, loss: 10.641375142929743\n",
      "iteration: 1300, loss: 10.610717067280369\n",
      "iteration: 1310, loss: 10.74716925131304\n",
      "iteration: 1320, loss: 10.172513865472057\n",
      "iteration: 1330, loss: 10.034151693238243\n",
      "iteration: 1340, loss: 11.564532435116183\n",
      "iteration: 1350, loss: 10.213840391877739\n",
      "iteration: 1360, loss: 10.466536924292889\n",
      "iteration: 1370, loss: 9.670978838526025\n",
      "iteration: 1380, loss: 9.712955182336824\n",
      "iteration: 1390, loss: 9.592123989536319\n",
      "iteration: 1400, loss: 9.466971247689868\n",
      "iteration: 1410, loss: 9.417708486324297\n",
      "iteration: 1420, loss: 10.286672971201348\n",
      "iteration: 1430, loss: 9.72835251959797\n",
      "iteration: 1440, loss: 9.757396416002994\n",
      "iteration: 1450, loss: 9.446718967234471\n",
      "iteration: 1460, loss: 9.11795795808033\n",
      "iteration: 1470, loss: 9.076542604374094\n",
      "iteration: 1480, loss: 8.887852625899114\n",
      "iteration: 1490, loss: 8.914254431228576\n",
      "iteration: 1500, loss: 9.972781315618349\n",
      "iteration: 1510, loss: 8.911377769190583\n",
      "iteration: 1520, loss: 10.204419902356435\n",
      "iteration: 1530, loss: 8.727756084531169\n",
      "iteration: 1540, loss: 8.836517641801503\n",
      "iteration: 1550, loss: 8.619851605819019\n",
      "iteration: 1560, loss: 8.469696718396609\n",
      "iteration: 1570, loss: 8.423514161335028\n",
      "iteration: 1580, loss: 8.207037361523458\n",
      "iteration: 1590, loss: 8.333356678090752\n",
      "iteration: 1600, loss: 15.100898306145506\n",
      "iteration: 1610, loss: 10.229112055313397\n",
      "iteration: 1620, loss: 8.207127946077861\n",
      "iteration: 1630, loss: 8.224563225356832\n",
      "iteration: 1640, loss: 7.992319814508006\n",
      "iteration: 1650, loss: 7.877652589550517\n",
      "iteration: 1660, loss: 7.809403634282894\n",
      "iteration: 1670, loss: 7.776292539778909\n",
      "iteration: 1680, loss: 8.15679333309748\n",
      "iteration: 1690, loss: 16.418387681762376\n",
      "iteration: 1700, loss: 8.21559365693211\n",
      "iteration: 1710, loss: 8.444262183793384\n",
      "iteration: 1720, loss: 7.585487344795121\n",
      "iteration: 1730, loss: 7.479086973305209\n",
      "iteration: 1740, loss: 7.42869667905225\n",
      "iteration: 1750, loss: 7.426593932855882\n",
      "iteration: 1760, loss: 7.414538258199636\n",
      "iteration: 1770, loss: 8.282898911637883\n",
      "iteration: 1780, loss: 12.131389902331835\n",
      "iteration: 1790, loss: 9.249955168694528\n",
      "iteration: 1800, loss: 7.38430768790614\n",
      "iteration: 1810, loss: 7.260164128756289\n",
      "iteration: 1820, loss: 7.2787466916958525\n",
      "iteration: 1830, loss: 7.090376791621168\n",
      "iteration: 1840, loss: 7.015674927319771\n",
      "iteration: 1850, loss: 6.998870389450571\n",
      "iteration: 1860, loss: 7.100218328469101\n",
      "iteration: 1870, loss: 9.895015669596845\n",
      "iteration: 1880, loss: 6.946179318376107\n",
      "iteration: 1890, loss: 7.791581009729032\n",
      "iteration: 1900, loss: 7.203489800844347\n",
      "iteration: 1910, loss: 6.821342816547157\n",
      "iteration: 1920, loss: 6.748210136877793\n",
      "iteration: 1930, loss: 6.849056842451997\n",
      "iteration: 1940, loss: 6.836755087543008\n",
      "iteration: 1950, loss: 8.310188080795484\n",
      "iteration: 1960, loss: 10.884955823856247\n",
      "iteration: 1970, loss: 8.370578458186246\n",
      "iteration: 1980, loss: 6.718021521016328\n",
      "iteration: 1990, loss: 7.04891230399821\n"
     ]
    }
   ],
   "source": [
    "for iteration in range(2000):\n",
    "    error = 0\n",
    "    penalty = 0\n",
    "    loss = 0\n",
    "    for x_e, y_e in train_environments:\n",
    "        # here we permute data so that we get random minibatches when we compute the penalty.\n",
    "        # this gives us an unbiased estimate for the squared gradient norm.\n",
    "        p = torch.randperm(len(x_e))\n",
    "        error_e = mse(net(x_e) * dummy_w, y_e[p])\n",
    "        penalty += compute_penalty(error_e, dummy_w)\n",
    "        error += error_e.mean()\n",
    "    \n",
    "    loss = error\n",
    "    # To reactivate the IRM, use this instead\n",
    "    # loss = (error + LAMBDA * penalty) / LAMBDA # rescaling to avoid exploding gradients\n",
    "        \n",
    "    opt.zero_grad()\n",
    "    loss.backward()\n",
    "    opt.step()\n",
    "    \n",
    "    if iteration % 10 == 0:\n",
    "        print('iteration: {}, loss: {}'.format(iteration, loss.item()))"
   ]
  },
  {
   "cell_type": "markdown",
   "metadata": {},
   "source": [
    "After playing with the capacity of the network (both number of hidden layers and width), and running the above cell multiple times (which picks up from the last iteration and continues), I managed to get the loss (squared error) on the _log_ of the number of shares down to ~ 7.\n",
    "\n",
    "Let's check if our predictor is any good. We'll plot the predictions against ground truth for one of the training environments. If the learner is working, we should see a straight line. This doesn't mean our predictor will generalize - we're hoping to overfit for the time being."
   ]
  },
  {
   "cell_type": "code",
   "execution_count": 19,
   "metadata": {},
   "outputs": [],
   "source": [
    "pred_env_1 = net(env_1_tensors[0]).squeeze()"
   ]
  },
  {
   "cell_type": "code",
   "execution_count": 21,
   "metadata": {},
   "outputs": [
    {
     "data": {
      "text/plain": [
       "<matplotlib.axes._subplots.AxesSubplot at 0x131de20f0>"
      ]
     },
     "execution_count": 21,
     "metadata": {},
     "output_type": "execute_result"
    },
    {
     "data": {
      "image/png": "[encoded data removed]",
      "text/plain": [
       "<Figure size 432x288 with 1 Axes>"
      ]
     },
     "metadata": {
      "needs_background": "light"
     },
     "output_type": "display_data"
    }
   ],
   "source": [
    "(pd.DataFrame(\n",
    "    {'predictions': pred_env_1.tolist(),\n",
    "     'truth': env_1_tensors[1].squeeze().tolist()})\n",
    " .plot(x='truth', y='predictions',\n",
    "       kind='scatter',\n",
    "       ylim=[0,12],\n",
    "       alpha=0.1))"
   ]
  },
  {
   "cell_type": "markdown",
   "metadata": {},
   "source": [
    "# Result\n",
    "\n",
    "The fit is pretty poor. Let's look for another dataset with a more learnable objective (turns out, we still can't predict how popular something will be /shrug)."
   ]
  }
 ],
 "metadata": {
  "kernelspec": {
   "display_name": "Python 3",
   "language": "python",
   "name": "python3"
  },
  "language_info": {
   "codemirror_mode": {
    "name": "ipython",
    "version": 3
   },
   "file_extension": ".py",
   "mimetype": "text/x-python",
   "name": "python",
   "nbconvert_exporter": "python",
   "pygments_lexer": "ipython3",
   "version": "3.7.3"
  }
 },
 "nbformat": 4,
 "nbformat_minor": 4
}
