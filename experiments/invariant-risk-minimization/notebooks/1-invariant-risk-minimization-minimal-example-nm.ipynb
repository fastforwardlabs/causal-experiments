{
 "cells": [
  {
   "cell_type": "markdown",
   "metadata": {},
   "source": [
    "# Invariant risk minimization\n",
    "\n",
    "Minimal pytorch implementation from appendix D of the paper [Invariant Risk Minimization](https://arxiv.org/abs/1907.02893)"
   ]
  },
  {
   "cell_type": "code",
   "execution_count": 3,
   "metadata": {},
   "outputs": [],
   "source": [
    "import torch\n",
    "from torch.autograd import grad"
   ]
  },
  {
   "cell_type": "code",
   "execution_count": 4,
   "metadata": {},
   "outputs": [],
   "source": [
    "# split into two random mini-batches of size b (random happens in the iteration)\n",
    "# an unbiased estimate of the squared gradient norm\n",
    "\n",
    "def compute_penalty(losses, dummy_w):\n",
    "    g1 = grad(losses[0::2].mean(), dummy_w, create_graph=True)[0]\n",
    "    g2 = grad(losses[1::2].mean(), dummy_w, create_graph=True)[0]\n",
    "    return (g1 * g2).sum()"
   ]
  },
  {
   "cell_type": "code",
   "execution_count": 5,
   "metadata": {},
   "outputs": [],
   "source": [
    "def example(n=10000, d=2, env=1):\n",
    "    x = torch.randn(n, d) * env\n",
    "    y = x + torch.randn(n, d) * env\n",
    "    z = y + torch.randn(n, d)\n",
    "    return torch.cat((x, z), 1), y.sum(1, keepdim=True)"
   ]
  },
  {
   "cell_type": "code",
   "execution_count": 6,
   "metadata": {},
   "outputs": [],
   "source": [
    "phi = torch.nn.Parameter(torch.ones(4, 1))\n",
    "dummy_w = torch.nn.Parameter(torch.Tensor([1.0])) # a dummy predictor"
   ]
  },
  {
   "cell_type": "code",
   "execution_count": 7,
   "metadata": {},
   "outputs": [],
   "source": [
    "opt = torch.optim.SGD([phi], lr=1e-3)\n",
    "mse = torch.nn.MSELoss(reduction=\"none\")"
   ]
  },
  {
   "cell_type": "code",
   "execution_count": 8,
   "metadata": {},
   "outputs": [],
   "source": [
    "environments = [\n",
    "    example(env=0.1),\n",
    "    example(env=1.0)\n",
    "]"
   ]
  },
  {
   "cell_type": "code",
   "execution_count": 9,
   "metadata": {},
   "outputs": [],
   "source": [
    "x = torch.randn(10000, 2) * 0.1\n",
    "y = x + torch.randn(10000, 2) * 0.1\n",
    "z = y + torch.randn(10000, 2)"
   ]
  },
  {
   "cell_type": "code",
   "execution_count": 10,
   "metadata": {},
   "outputs": [
    {
     "data": {
      "text/plain": [
       "tensor([[ 0.1351,  0.0705, -0.1392, -0.2783],\n",
       "        [-0.1587, -0.3021, -1.4708,  1.3177],\n",
       "        [-0.0370,  0.0737,  1.0947,  1.0362],\n",
       "        ...,\n",
       "        [-0.0604,  0.0324,  0.1619, -0.4181],\n",
       "        [-0.1433,  0.0794, -0.2072,  1.3918],\n",
       "        [ 0.0451,  0.0160,  0.7566, -0.5391]])"
      ]
     },
     "execution_count": 10,
     "metadata": {},
     "output_type": "execute_result"
    }
   ],
   "source": [
    "torch.cat((x, z), 1)"
   ]
  },
  {
   "cell_type": "code",
   "execution_count": 11,
   "metadata": {},
   "outputs": [
    {
     "data": {
      "text/plain": [
       "tensor([[ 0.0324,  0.2193],\n",
       "        [-0.1265, -0.2113],\n",
       "        [ 0.0225,  0.3116],\n",
       "        ...,\n",
       "        [-0.0636,  0.1220],\n",
       "        [-0.1166,  0.1059],\n",
       "        [ 0.0513, -0.1420]])"
      ]
     },
     "execution_count": 11,
     "metadata": {},
     "output_type": "execute_result"
    }
   ],
   "source": [
    "y"
   ]
  },
  {
   "cell_type": "code",
   "execution_count": 12,
   "metadata": {},
   "outputs": [
    {
     "data": {
      "text/plain": [
       "torch.Size([4, 1])"
      ]
     },
     "execution_count": 12,
     "metadata": {},
     "output_type": "execute_result"
    }
   ],
   "source": [
    "phi.size()"
   ]
  },
  {
   "cell_type": "code",
   "execution_count": 19,
   "metadata": {},
   "outputs": [
    {
     "data": {
      "text/plain": [
       "torch.Size([10000, 1])"
      ]
     },
     "execution_count": 19,
     "metadata": {},
     "output_type": "execute_result"
    }
   ],
   "source": [
    "losses = mse(torch.cat((x, z), 1) @ phi * dummy_w, y.sum(1, keepdim=True))\n",
    "losses.size()"
   ]
  },
  {
   "cell_type": "code",
   "execution_count": 15,
   "metadata": {},
   "outputs": [
    {
     "data": {
      "text/plain": [
       "torch.Size([1])"
      ]
     },
     "execution_count": 15,
     "metadata": {},
     "output_type": "execute_result"
    }
   ],
   "source": [
    "dummy_w.size()"
   ]
  },
  {
   "cell_type": "code",
   "execution_count": 20,
   "metadata": {},
   "outputs": [
    {
     "data": {
      "text/plain": [
       "torch.Size([5000, 1])"
      ]
     },
     "execution_count": 20,
     "metadata": {},
     "output_type": "execute_result"
    }
   ],
   "source": [
    "losses[0::2].size()"
   ]
  },
  {
   "cell_type": "code",
   "execution_count": 21,
   "metadata": {},
   "outputs": [
    {
     "data": {
      "text/plain": [
       "tensor([4.0774], grad_fn=<SumBackward1>)"
      ]
     },
     "execution_count": 21,
     "metadata": {},
     "output_type": "execute_result"
    }
   ],
   "source": [
    "grad(losses[0::2].mean(), dummy_w, create_graph=True)[0]"
   ]
  },
  {
   "cell_type": "code",
   "execution_count": 7,
   "metadata": {},
   "outputs": [
    {
     "name": "stdout",
     "output_type": "stream",
     "text": [
      "Parameter containing:\n",
      "tensor([[0.8582],\n",
      "        [0.8600],\n",
      "        [0.6869],\n",
      "        [0.6908]], requires_grad=True)\n",
      "Parameter containing:\n",
      "tensor([[0.9308],\n",
      "        [0.9278],\n",
      "        [0.1568],\n",
      "        [0.1556]], requires_grad=True)\n",
      "Parameter containing:\n",
      "tensor([[0.9609],\n",
      "        [0.9567],\n",
      "        [0.1072],\n",
      "        [0.1056]], requires_grad=True)\n",
      "Parameter containing:\n",
      "tensor([[0.9707],\n",
      "        [0.9659],\n",
      "        [0.0853],\n",
      "        [0.0835]], requires_grad=True)\n",
      "Parameter containing:\n",
      "tensor([[0.9753],\n",
      "        [0.9703],\n",
      "        [0.0725],\n",
      "        [0.0706]], requires_grad=True)\n",
      "Parameter containing:\n",
      "tensor([[0.9780],\n",
      "        [0.9728],\n",
      "        [0.0642],\n",
      "        [0.0619]], requires_grad=True)\n",
      "Parameter containing:\n",
      "tensor([[0.9797],\n",
      "        [0.9743],\n",
      "        [0.0582],\n",
      "        [0.0560]], requires_grad=True)\n",
      "Parameter containing:\n",
      "tensor([[0.9808],\n",
      "        [0.9754],\n",
      "        [0.0534],\n",
      "        [0.0516]], requires_grad=True)\n",
      "Parameter containing:\n",
      "tensor([[0.9817],\n",
      "        [0.9762],\n",
      "        [0.0499],\n",
      "        [0.0477]], requires_grad=True)\n",
      "Parameter containing:\n",
      "tensor([[0.9822],\n",
      "        [0.9768],\n",
      "        [0.0470],\n",
      "        [0.0448]], requires_grad=True)\n",
      "Parameter containing:\n",
      "tensor([[0.9827],\n",
      "        [0.9774],\n",
      "        [0.0447],\n",
      "        [0.0421]], requires_grad=True)\n",
      "Parameter containing:\n",
      "tensor([[0.9831],\n",
      "        [0.9777],\n",
      "        [0.0428],\n",
      "        [0.0401]], requires_grad=True)\n",
      "Parameter containing:\n",
      "tensor([[0.9834],\n",
      "        [0.9780],\n",
      "        [0.0410],\n",
      "        [0.0383]], requires_grad=True)\n",
      "Parameter containing:\n",
      "tensor([[0.9836],\n",
      "        [0.9783],\n",
      "        [0.0393],\n",
      "        [0.0368]], requires_grad=True)\n",
      "Parameter containing:\n",
      "tensor([[0.9839],\n",
      "        [0.9785],\n",
      "        [0.0381],\n",
      "        [0.0352]], requires_grad=True)\n",
      "Parameter containing:\n",
      "tensor([[0.9841],\n",
      "        [0.9787],\n",
      "        [0.0367],\n",
      "        [0.0338]], requires_grad=True)\n",
      "Parameter containing:\n",
      "tensor([[0.9841],\n",
      "        [0.9789],\n",
      "        [0.0353],\n",
      "        [0.0328]], requires_grad=True)\n",
      "Parameter containing:\n",
      "tensor([[0.9844],\n",
      "        [0.9789],\n",
      "        [0.0343],\n",
      "        [0.0318]], requires_grad=True)\n",
      "Parameter containing:\n",
      "tensor([[0.9845],\n",
      "        [0.9791],\n",
      "        [0.0332],\n",
      "        [0.0310]], requires_grad=True)\n",
      "Parameter containing:\n",
      "tensor([[0.9845],\n",
      "        [0.9793],\n",
      "        [0.0325],\n",
      "        [0.0302]], requires_grad=True)\n",
      "Parameter containing:\n",
      "tensor([[0.9846],\n",
      "        [0.9794],\n",
      "        [0.0318],\n",
      "        [0.0293]], requires_grad=True)\n",
      "Parameter containing:\n",
      "tensor([[0.9848],\n",
      "        [0.9794],\n",
      "        [0.0312],\n",
      "        [0.0285]], requires_grad=True)\n",
      "Parameter containing:\n",
      "tensor([[0.9848],\n",
      "        [0.9795],\n",
      "        [0.0304],\n",
      "        [0.0280]], requires_grad=True)\n",
      "Parameter containing:\n",
      "tensor([[0.9848],\n",
      "        [0.9797],\n",
      "        [0.0297],\n",
      "        [0.0274]], requires_grad=True)\n",
      "Parameter containing:\n",
      "tensor([[0.9849],\n",
      "        [0.9797],\n",
      "        [0.0293],\n",
      "        [0.0269]], requires_grad=True)\n",
      "Parameter containing:\n",
      "tensor([[0.9849],\n",
      "        [0.9798],\n",
      "        [0.0289],\n",
      "        [0.0264]], requires_grad=True)\n",
      "Parameter containing:\n",
      "tensor([[0.9849],\n",
      "        [0.9799],\n",
      "        [0.0284],\n",
      "        [0.0259]], requires_grad=True)\n",
      "Parameter containing:\n",
      "tensor([[0.9850],\n",
      "        [0.9799],\n",
      "        [0.0279],\n",
      "        [0.0254]], requires_grad=True)\n",
      "Parameter containing:\n",
      "tensor([[0.9850],\n",
      "        [0.9800],\n",
      "        [0.0273],\n",
      "        [0.0250]], requires_grad=True)\n",
      "Parameter containing:\n",
      "tensor([[0.9851],\n",
      "        [0.9799],\n",
      "        [0.0271],\n",
      "        [0.0244]], requires_grad=True)\n",
      "Parameter containing:\n",
      "tensor([[0.9851],\n",
      "        [0.9800],\n",
      "        [0.0267],\n",
      "        [0.0240]], requires_grad=True)\n",
      "Parameter containing:\n",
      "tensor([[0.9852],\n",
      "        [0.9799],\n",
      "        [0.0267],\n",
      "        [0.0236]], requires_grad=True)\n",
      "Parameter containing:\n",
      "tensor([[0.9854],\n",
      "        [0.9798],\n",
      "        [0.0265],\n",
      "        [0.0231]], requires_grad=True)\n",
      "Parameter containing:\n",
      "tensor([[0.9855],\n",
      "        [0.9798],\n",
      "        [0.0263],\n",
      "        [0.0227]], requires_grad=True)\n",
      "Parameter containing:\n",
      "tensor([[0.9856],\n",
      "        [0.9797],\n",
      "        [0.0259],\n",
      "        [0.0224]], requires_grad=True)\n",
      "Parameter containing:\n",
      "tensor([[0.9856],\n",
      "        [0.9798],\n",
      "        [0.0258],\n",
      "        [0.0221]], requires_grad=True)\n",
      "Parameter containing:\n",
      "tensor([[0.9856],\n",
      "        [0.9798],\n",
      "        [0.0256],\n",
      "        [0.0220]], requires_grad=True)\n",
      "Parameter containing:\n",
      "tensor([[0.9856],\n",
      "        [0.9798],\n",
      "        [0.0253],\n",
      "        [0.0218]], requires_grad=True)\n",
      "Parameter containing:\n",
      "tensor([[0.9856],\n",
      "        [0.9798],\n",
      "        [0.0254],\n",
      "        [0.0216]], requires_grad=True)\n",
      "Parameter containing:\n",
      "tensor([[0.9857],\n",
      "        [0.9798],\n",
      "        [0.0249],\n",
      "        [0.0212]], requires_grad=True)\n",
      "Parameter containing:\n",
      "tensor([[0.9857],\n",
      "        [0.9798],\n",
      "        [0.0244],\n",
      "        [0.0210]], requires_grad=True)\n",
      "Parameter containing:\n",
      "tensor([[0.9858],\n",
      "        [0.9798],\n",
      "        [0.0242],\n",
      "        [0.0207]], requires_grad=True)\n",
      "Parameter containing:\n",
      "tensor([[0.9858],\n",
      "        [0.9798],\n",
      "        [0.0241],\n",
      "        [0.0206]], requires_grad=True)\n",
      "Parameter containing:\n",
      "tensor([[0.9858],\n",
      "        [0.9798],\n",
      "        [0.0237],\n",
      "        [0.0202]], requires_grad=True)\n",
      "Parameter containing:\n",
      "tensor([[0.9858],\n",
      "        [0.9799],\n",
      "        [0.0235],\n",
      "        [0.0201]], requires_grad=True)\n",
      "Parameter containing:\n",
      "tensor([[0.9858],\n",
      "        [0.9799],\n",
      "        [0.0236],\n",
      "        [0.0200]], requires_grad=True)\n",
      "Parameter containing:\n",
      "tensor([[0.9856],\n",
      "        [0.9800],\n",
      "        [0.0236],\n",
      "        [0.0202]], requires_grad=True)\n",
      "Parameter containing:\n",
      "tensor([[0.9857],\n",
      "        [0.9800],\n",
      "        [0.0234],\n",
      "        [0.0197]], requires_grad=True)\n",
      "Parameter containing:\n",
      "tensor([[0.9858],\n",
      "        [0.9799],\n",
      "        [0.0236],\n",
      "        [0.0196]], requires_grad=True)\n",
      "Parameter containing:\n",
      "tensor([[0.9858],\n",
      "        [0.9799],\n",
      "        [0.0234],\n",
      "        [0.0197]], requires_grad=True)\n"
     ]
    }
   ],
   "source": [
    "for iteration in range(50000):\n",
    "    error = 0\n",
    "    penalty = 0\n",
    "    for x_e, y_e in environments:\n",
    "        # here we permute data so that we get random minibatches when we compute the penalty.\n",
    "        # this gives us an unbiased estimate for the squared gradient norm.\n",
    "        p = torch.randperm(len(x_e))\n",
    "        error_e = mse(x_e[p] @ phi * dummy_w, y_e[p])\n",
    "        penalty += compute_penalty(error_e, dummy_w)\n",
    "        error += error_e.mean()\n",
    "        \n",
    "    opt.zero_grad()\n",
    "    (1e-5 * error + penalty).backward()\n",
    "    opt.step()\n",
    "    \n",
    "    if iteration % 1000 == 0:\n",
    "        print(phi)"
   ]
  },
  {
   "cell_type": "code",
   "execution_count": 8,
   "metadata": {},
   "outputs": [
    {
     "data": {
      "text/plain": [
       "Parameter containing:\n",
       "tensor([[0.9858],\n",
       "        [0.9799],\n",
       "        [0.0231],\n",
       "        [0.0195]], requires_grad=True)"
      ]
     },
     "execution_count": 8,
     "metadata": {},
     "output_type": "execute_result"
    }
   ],
   "source": [
    "phi"
   ]
  }
 ],
 "metadata": {
  "kernelspec": {
   "display_name": "Python 3",
   "language": "python",
   "name": "python3"
  },
  "language_info": {
   "codemirror_mode": {
    "name": "ipython",
    "version": 3
   },
   "file_extension": ".py",
   "mimetype": "text/x-python",
   "name": "python",
   "nbconvert_exporter": "python",
   "pygments_lexer": "ipython3",
   "version": "3.7.3"
  }
 },
 "nbformat": 4,
 "nbformat_minor": 4
}
