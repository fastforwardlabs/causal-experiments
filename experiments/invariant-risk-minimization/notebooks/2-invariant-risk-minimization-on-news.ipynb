{
 "cells": [
  {
   "cell_type": "markdown",
   "metadata": {},
   "source": [
    "# IRM news popularity\n",
    "\n",
    "IRM is a compelling idea, bringing invariant causal prediction further into the world of machine learning. However, the results demonstrated in the paper are produced on datasets constructed for the purpose. Let's try it on a real problem.\n",
    "\n",
    "To use IRM, we need to be able to construct datasets from different environments. The paper seems not to be very explicit about it, but I think the environments need the same thing as in the case of the Peters et al Invariant Causal Prediction paper - they should be constructed by \"interventions\" (really here just selection) on something that is not a direct cause of the outcome.\n",
    "\n",
    "This [online news popularity](https://archive.ics.uci.edu/ml/datasets/Online+News+Popularity) dataset seems to follow that form. There are many engineered features (typical for ML), which are all potential direct causes of article popularity (measured by number of shares). Also recorded are the number of days that have passed since the article was released (at time of collection). We'd expect, after an initial period, that this does not effect the number of shares, and as such, we can construct environments by splitting on it."
   ]
  },
  {
   "cell_type": "markdown",
   "metadata": {},
   "source": [
    "## Imports"
   ]
  },
  {
   "cell_type": "code",
   "execution_count": 1,
   "metadata": {},
   "outputs": [],
   "source": [
    "import pandas as pd\n",
    "\n",
    "import torch\n",
    "from torch.autograd import grad"
   ]
  },
  {
   "cell_type": "markdown",
   "metadata": {},
   "source": [
    "## Read data"
   ]
  },
  {
   "cell_type": "code",
   "execution_count": 2,
   "metadata": {},
   "outputs": [],
   "source": [
    "df = pd.read_csv('../../data/OnlineNewsPopularity/OnlineNewsPopularity.csv')\n",
    "df.columns = df.columns.map(str.strip) # remove leading spaces from column names"
   ]
  },
  {
   "cell_type": "markdown",
   "metadata": {},
   "source": [
    "## Split data into environments\n",
    "\n",
    "We'll split on the number of days since release, which covers almost two years. We can experiment with how many environments we create."
   ]
  },
  {
   "cell_type": "code",
   "execution_count": 3,
   "metadata": {},
   "outputs": [
    {
     "name": "stdout",
     "output_type": "stream",
     "text": [
      "min timedelta:  8.0\n",
      "max timedelta:  731.0\n"
     ]
    },
    {
     "data": {
      "text/plain": [
       "<matplotlib.axes._subplots.AxesSubplot at 0x133c48780>"
      ]
     },
     "execution_count": 3,
     "metadata": {},
     "output_type": "execute_result"
    },
    {
     "data": {
      "image/png": "[encoded data removed]",
      "text/plain": [
       "<Figure size 432x288 with 1 Axes>"
      ]
     },
     "metadata": {
      "needs_background": "light"
     },
     "output_type": "display_data"
    }
   ],
   "source": [
    "print('min timedelta: ', df.timedelta.min())\n",
    "print('max timedelta: ', df.timedelta.max())\n",
    "df.timedelta.hist()"
   ]
  },
  {
   "cell_type": "code",
   "execution_count": 4,
   "metadata": {},
   "outputs": [],
   "source": [
    "environment_1_df = df[df.timedelta < 180]\n",
    "environment_2_df = df[(df.timedelta >= 180) & (df.timedelta < 360)]\n",
    "environment_3_df = df[(df.timedelta >= 360) & (df.timedelta < 540)]\n",
    "environment_4_df = df[(df.timedelta >= 540)]"
   ]
  },
  {
   "cell_type": "markdown",
   "metadata": {},
   "source": [
    "Are our environments about equally sized?"
   ]
  },
  {
   "cell_type": "code",
   "execution_count": 5,
   "metadata": {},
   "outputs": [
    {
     "data": {
      "text/plain": [
       "[10866, 9993, 8690, 10095]"
      ]
     },
     "execution_count": 5,
     "metadata": {},
     "output_type": "execute_result"
    }
   ],
   "source": [
    "[x for x in map(len, [environment_1_df, environment_2_df, environment_3_df, environment_4_df])]"
   ]
  },
  {
   "cell_type": "markdown",
   "metadata": {},
   "source": [
    "Close enough.\n",
    "\n",
    "## IRM on two environments\n",
    "\n",
    "We'll first perform IRM on two environments to arrive an invariant representation. We'll then test the performance of the IRM representation vs a non-IRM learned version on the two holdout environments."
   ]
  },
  {
   "cell_type": "code",
   "execution_count": 6,
   "metadata": {},
   "outputs": [],
   "source": [
    "def df_to_tensors(df):\n",
    "    features = torch.tensor(\n",
    "        df.drop(['url','timedelta','shares'],\n",
    "                axis='columns')\n",
    "          .to_numpy()\n",
    "    ).double()\n",
    "    \n",
    "    target = torch.tensor(\n",
    "        df['shares'].to_numpy()\n",
    "    ).unsqueeze(1).double()\n",
    "    \n",
    "    return (features, target)"
   ]
  },
  {
   "cell_type": "code",
   "execution_count": 7,
   "metadata": {},
   "outputs": [],
   "source": [
    "env_1_tensors = df_to_tensors(environment_1_df)\n",
    "env_2_tensors = df_to_tensors(environment_2_df)\n",
    "env_3_tensors = df_to_tensors(environment_3_df)\n",
    "env_4_tensors = df_to_tensors(environment_4_df)"
   ]
  },
  {
   "cell_type": "code",
   "execution_count": 8,
   "metadata": {},
   "outputs": [],
   "source": [
    "n_features = env_1_tensors[0].shape[1]"
   ]
  },
  {
   "cell_type": "code",
   "execution_count": 9,
   "metadata": {},
   "outputs": [],
   "source": [
    "train_environments = [env_1_tensors, env_2_tensors]\n",
    "holdout_environments = [env_3_tensors, env_4_tensors]"
   ]
  },
  {
   "cell_type": "code",
   "execution_count": 10,
   "metadata": {},
   "outputs": [],
   "source": [
    "# split into two random mini-batches of size b (random happens in the iteration)\n",
    "# an unbiased estimate of the squared gradient norm\n",
    "\n",
    "def compute_penalty(losses, dummy_w):\n",
    "    g1 = grad(losses[0::2].mean(), dummy_w, create_graph=True)[0]\n",
    "    g2 = grad(losses[1::2].mean(), dummy_w, create_graph=True)[0]\n",
    "    return (g1 * g2).sum()"
   ]
  },
  {
   "cell_type": "code",
   "execution_count": 11,
   "metadata": {},
   "outputs": [],
   "source": [
    "phi = torch.nn.Parameter(torch.ones(n_features, 1).double())\n",
    "dummy_w = torch.nn.Parameter(torch.Tensor([1.0])).double() # a dummy predictor"
   ]
  },
  {
   "cell_type": "code",
   "execution_count": 12,
   "metadata": {},
   "outputs": [],
   "source": [
    "opt = torch.optim.Adam([phi], lr=1e-3)\n",
    "mse = torch.nn.MSELoss(reduction=\"none\")"
   ]
  },
  {
   "cell_type": "markdown",
   "metadata": {},
   "source": [
    "We could probably speed up training by scaling (min-max or z-score) the input features."
   ]
  },
  {
   "cell_type": "code",
   "execution_count": null,
   "metadata": {},
   "outputs": [
    {
     "name": "stdout",
     "output_type": "stream",
     "text": [
      "error:  2948864251254.466\n",
      "iteration:  0\n",
      "phi:  tensor([0.9990, 0.9990, 0.9990, 0.9990, 0.9990, 0.9990, 0.9990, 0.9990, 0.9990,\n",
      "        0.9990, 0.9990, 0.9990, 0.9990, 0.9990, 0.9990, 0.9990, 0.9990, 1.0010,\n",
      "        0.9990, 0.9990, 0.9990, 0.9990, 0.9990, 0.9990, 0.9990, 0.9990, 0.9990,\n",
      "        0.9990, 0.9990, 0.9990, 0.9990, 0.9990, 0.9990, 0.9990, 0.9990, 0.9990,\n",
      "        0.9990, 0.9990, 0.9990, 0.9990, 0.9990, 0.9990, 0.9990, 0.9990, 0.9990,\n",
      "        0.9990, 0.9990, 0.9990, 0.9990, 0.9990, 0.9990, 1.0010, 1.0010, 1.0010,\n",
      "        0.9990, 0.9990, 0.9990, 0.9990], dtype=torch.float64,\n",
      "       grad_fn=<SqueezeBackward0>)\n",
      "error:  612255738908.9043\n",
      "error:  228216353334.26666\n",
      "error:  107815745656.4092\n",
      "error:  56882808376.14217\n",
      "error:  31788232439.29389\n",
      "error:  18342502605.415916\n",
      "error:  10785680851.320368\n",
      "error:  6420548015.014734\n",
      "error:  3859962728.7640095\n",
      "error:  2345833811.3979073\n",
      "iteration:  10000\n",
      "phi:  tensor([0.0298, 0.0298, 0.0299, 0.0299, 0.0298, 0.0303, 0.0299, 0.0307, 0.0302,\n",
      "        0.0298, 0.0300, 0.0302, 0.0295, 0.0294, 0.0300, 0.0298, 0.0289, 1.9702,\n",
      "        0.0303, 0.0301, 0.0292, 0.0298, 0.0299, 0.0300, 0.0304, 0.0302, 0.0302,\n",
      "        0.0301, 0.0302, 0.0301, 0.0298, 0.0297, 0.0295, 0.0296, 0.0301, 0.0303,\n",
      "        0.0302, 0.0297, 0.0297, 0.0290, 0.0308, 0.0297, 0.0299, 0.0299, 0.0298,\n",
      "        0.0298, 0.0298, 0.0297, 0.0298, 0.0299, 0.0298, 1.9701, 1.9702, 1.9701,\n",
      "        0.0302, 0.0309, 0.0297, 0.0303], dtype=torch.float64,\n",
      "       grad_fn=<SqueezeBackward0>)\n",
      "error:  1447579370.7891812\n",
      "error:  914745800.2202702\n",
      "error:  599556489.2034334\n",
      "error:  414104387.36479867\n",
      "error:  305876904.76574516\n",
      "error:  243454368.05334902\n",
      "error:  208044422.29273066\n",
      "error:  188426567.5262074\n",
      "error:  177923636.57365137\n",
      "error:  172580191.0152077\n",
      "iteration:  20000\n",
      "phi:  tensor([3.9233e-03, 3.8173e-03, 4.0680e-03, 3.9731e-03, 3.9099e-03, 4.9057e-03,\n",
      "        3.9741e-03, 5.5920e-03, 4.6019e-03, 3.7511e-03, 4.1937e-03, 4.5963e-03,\n",
      "        3.2855e-03, 3.0837e-03, 4.2349e-03, 3.8089e-03, 1.9921e-03, 1.9962e+00,\n",
      "        4.7719e-03, 4.5349e-03, 2.7784e-03, 3.8652e-03, 3.9599e-03, 4.3258e-03,\n",
      "        4.9457e-03, 4.6802e-03, 4.4453e-03, 4.4191e-03, 4.5678e-03, 4.3308e-03,\n",
      "        3.9150e-03, 3.7254e-03, 3.2858e-03, 3.4737e-03, 4.4690e-03, 4.8964e-03,\n",
      "        4.6924e-03, 3.5916e-03, 3.7026e-03, 2.2525e-03, 5.8969e-03, 3.7043e-03,\n",
      "        4.0098e-03, 4.0073e-03, 3.8885e-03, 3.8990e-03, 3.7839e-03, 3.7313e-03,\n",
      "        3.9281e-03, 3.9776e-03, 3.8920e-03, 1.9960e+00, 1.9961e+00, 1.9959e+00,\n",
      "        4.5408e-03, 6.0224e-03, 3.7129e-03, 4.8161e-03], dtype=torch.float64,\n",
      "       grad_fn=<SqueezeBackward0>)\n",
      "error:  170067206.20793653\n",
      "error:  169026874.30437025\n",
      "error:  168680578.69167683\n",
      "error:  168603083.65247232\n",
      "error:  168595602.95244122\n",
      "error:  168597035.0637632\n",
      "error:  168601292.73927984\n",
      "error:  168614164.1897269\n",
      "error:  168655272.847878\n",
      "error:  168795316.50362507\n",
      "iteration:  30000\n",
      "phi:  tensor([ 2.5077e-03,  2.3626e-03,  2.9198e-03,  2.7861e-03,  2.7207e-03,\n",
      "         3.6661e-03,  3.3779e-03,  5.4210e-03,  2.8727e-03,  2.6264e-03,\n",
      "         3.0915e-03,  2.6365e-03,  1.7255e-03,  2.9588e-03,  6.0757e-03,\n",
      "         3.0315e-03, -4.3575e-04,  1.9975e+00,  4.8591e-03,  4.6626e-03,\n",
      "         2.1304e-03,  2.6096e-03,  2.5449e-03,  2.9567e-03,  4.2908e-03,\n",
      "         3.5902e-03,  5.6599e-03,  7.8399e-03,  7.5630e-03,  2.7006e-03,\n",
      "         2.2474e-03,  2.4437e-03,  2.8229e-03,  2.8643e-03,  2.1173e-03,\n",
      "         3.1892e-03,  2.6775e-03,  3.2232e-03,  2.4089e-03,  6.3888e-04,\n",
      "         4.3246e-03,  2.5256e-03,  2.8917e-03,  3.3685e-03,  2.9870e-03,\n",
      "         2.5364e-03,  2.7986e-03,  2.2790e-03,  2.8714e-03,  3.0318e-03,\n",
      "         2.8210e-03,  1.9972e+00,  1.9975e+00,  1.9970e+00,  2.8233e-03,\n",
      "         4.2521e-03,  2.5161e-03,  3.0264e-03], dtype=torch.float64,\n",
      "       grad_fn=<SqueezeBackward0>)\n",
      "error:  169234965.021179\n",
      "error:  170099594.6025024\n",
      "error:  170702731.40525892\n",
      "error:  170905470.8285902\n",
      "error:  171095165.9268715\n",
      "error:  172132268.0937523\n",
      "error:  175666421.64358005\n",
      "error:  175401992.59286407\n",
      "error:  176186392.79776338\n",
      "error:  175217985.0172087\n",
      "iteration:  40000\n",
      "phi:  tensor([ 8.7587e-03,  4.2285e-02, -1.3652e-02, -8.0116e-03, -1.0211e-02,\n",
      "         6.6911e-02,  7.1504e-03,  4.2009e-02,  7.2573e-02,  3.4268e-03,\n",
      "         1.1393e-02,  4.3805e-02, -9.0987e-03, -4.8903e-02, -1.1039e-01,\n",
      "         4.2104e-02, -3.7182e-02,  2.0069e+00, -2.0340e-02, -2.7266e-02,\n",
      "        -2.4586e-03,  9.6154e-04,  3.1526e-03,  1.4332e-02,  7.0957e-03,\n",
      "         1.7411e-02,  7.6252e-02, -4.4361e-03,  1.0362e-02,  1.3964e-02,\n",
      "         2.4290e-02,  2.6236e-02, -7.1839e-02, -4.5644e-02,  8.5308e-02,\n",
      "         5.9639e-02,  7.1913e-02, -2.0724e-02, -1.2022e-02, -4.8946e-02,\n",
      "         6.5924e-02,  9.7915e-03,  1.3973e-02, -1.2437e-02, -4.7841e-04,\n",
      "         2.9093e-02, -3.8171e-03,  2.1340e-02,  7.4166e-03, -2.1912e-03,\n",
      "         5.2435e-03,  1.9789e+00,  1.9839e+00,  1.9840e+00,  6.0603e-02,\n",
      "         1.5336e-01, -1.6435e-02,  8.0665e-02], dtype=torch.float64,\n",
      "       grad_fn=<SqueezeBackward0>)\n",
      "error:  174327727.24405468\n",
      "error:  175209649.79550308\n",
      "error:  174517266.27997792\n",
      "error:  174952658.56568387\n",
      "error:  175758045.5918207\n"
     ]
    }
   ],
   "source": [
    "for iteration in range(50000):\n",
    "    error = 0\n",
    "    penalty = 0\n",
    "    for x_e, y_e in train_environments:\n",
    "        # here we permute data so that we get random minibatches when we compute the penalty.\n",
    "        # this gives us an unbiased estimate for the squared gradient norm.\n",
    "        p = torch.randperm(len(x_e))\n",
    "        error_e = mse(x_e[p] @ phi * dummy_w, y_e[p])\n",
    "        penalty += compute_penalty(error_e, dummy_w)\n",
    "        error += error_e.mean()\n",
    "        \n",
    "    opt.zero_grad()\n",
    "    (1e-5 * error + penalty).backward()\n",
    "    opt.step()\n",
    "    \n",
    "    if iteration % 1000 == 0:\n",
    "        print('error: ', error.item())\n",
    "    if iteration % 10000 == 0:\n",
    "        print('iteration: ', iteration)\n",
    "        print('phi: ', phi.squeeze())"
   ]
  },
  {
   "cell_type": "code",
   "execution_count": null,
   "metadata": {},
   "outputs": [],
   "source": [
    "pred_env_1 = (env_1_tensors[0] @ phi).squeeze()"
   ]
  },
  {
   "cell_type": "code",
   "execution_count": null,
   "metadata": {},
   "outputs": [],
   "source": [
    "(pd.DataFrame(\n",
    "    {'predictions': pred_env_1.tolist(),\n",
    "     'truth': env_1_tensors[1].squeeze().tolist()})\n",
    " .plot(x='truth', y='predictions',\n",
    "       kind='scatter',\n",
    "       alpha=0.2))"
   ]
  },
  {
   "cell_type": "markdown",
   "metadata": {},
   "source": [
    "# Result\n",
    "\n",
    "Clearly, we can't fit this dataset well with linear regression. In fact, the results are pretty poor. Fortunately, IRM works in nonlinear settings, but this requires some more work."
   ]
  },
  {
   "cell_type": "code",
   "execution_count": null,
   "metadata": {},
   "outputs": [],
   "source": [
    "(len(df), len(df[df.shares < 1500])) # -> 1500 shares is approximately half the dataset"
   ]
  },
  {
   "cell_type": "code",
   "execution_count": null,
   "metadata": {},
   "outputs": [],
   "source": []
  }
 ],
 "metadata": {
  "kernelspec": {
   "display_name": "Python 3",
   "language": "python",
   "name": "python3"
  },
  "language_info": {
   "codemirror_mode": {
    "name": "ipython",
    "version": 3
   },
   "file_extension": ".py",
   "mimetype": "text/x-python",
   "name": "python",
   "nbconvert_exporter": "python",
   "pygments_lexer": "ipython3",
   "version": "3.6.7"
  }
 },
 "nbformat": 4,
 "nbformat_minor": 4
}
