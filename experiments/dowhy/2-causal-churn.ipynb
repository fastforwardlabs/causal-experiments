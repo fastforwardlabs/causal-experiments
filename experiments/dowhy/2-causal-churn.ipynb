{
 "cells": [
  {
   "cell_type": "markdown",
   "metadata": {},
   "source": [
    "# Telco Churn II: this time it's causal"
   ]
  },
  {
   "cell_type": "code",
   "execution_count": 104,
   "metadata": {},
   "outputs": [],
   "source": [
    "import pandas as pd\n",
    "import numpy as np\n",
    "\n",
    "import dowhy.api"
   ]
  },
  {
   "cell_type": "code",
   "execution_count": 125,
   "metadata": {},
   "outputs": [],
   "source": [
    "df = pd.read_csv('../../data/churn.csv').drop(['customerID','TotalCharges'], axis='columns')"
   ]
  },
  {
   "cell_type": "markdown",
   "metadata": {},
   "source": [
    "Specify a mapping from yes/no responses to integer values."
   ]
  },
  {
   "cell_type": "code",
   "execution_count": 126,
   "metadata": {},
   "outputs": [],
   "source": [
    "default_options = {'Yes': 1, 'No': 0}\n",
    "internet_options = {'Yes': 1, 'No': 0, 'No internet service': -1}\n",
    "phone_options = {'Yes': 1, 'No': 0, 'No phone service': -1}\n",
    "gender_options = {'Female': 1, 'Male': 0}\n",
    "contract_options = {'Month-to-month': 0, 'One year': 1, 'Two year': 2}\n",
    "service_options = {'No': 0, 'DSL': 1, 'Fiber optic': 2}\n",
    "payment_options = {'Mailed check': 0, 'Electronic check': 1, 'Credit card (automatic)': 2, 'Bank transfer (automatic)': 3}"
   ]
  },
  {
   "cell_type": "code",
   "execution_count": 65,
   "metadata": {},
   "outputs": [],
   "source": [
    "column_options = {\n",
    "    'Churn': default_options,\n",
    "    'Partner': default_options,\n",
    "    'Dependents': default_options,\n",
    "    'PhoneService': default_options,\n",
    "    'PaperlessBilling': default_options,\n",
    "    'OnlineSecurity': internet_options,\n",
    "    'OnlineBackup': internet_options,\n",
    "    'DeviceProtection': internet_options,\n",
    "    'TechSupport': internet_options,\n",
    "    'StreamingTV': internet_options,\n",
    "    'StreamingMovies': internet_options,\n",
    "    'MultipleLines': phone_options,\n",
    "    'gender': gender_options,\n",
    "    'InternetService': service_options,\n",
    "    'Contract': contract_options,\n",
    "    'PaymentMethod': payment_options\n",
    "}"
   ]
  },
  {
   "cell_type": "code",
   "execution_count": 75,
   "metadata": {},
   "outputs": [
    {
     "data": {
      "text/plain": [
       "Index(['gender', 'SeniorCitizen', 'Partner', 'Dependents', 'tenure',\n",
       "       'PhoneService', 'MultipleLines', 'InternetService', 'OnlineSecurity',\n",
       "       'OnlineBackup', 'DeviceProtection', 'TechSupport', 'StreamingTV',\n",
       "       'StreamingMovies', 'Contract', 'PaperlessBilling', 'PaymentMethod',\n",
       "       'MonthlyCharges', 'TotalCharges', 'Churn'],\n",
       "      dtype='object')"
      ]
     },
     "execution_count": 75,
     "metadata": {},
     "output_type": "execute_result"
    }
   ],
   "source": [
    "df.columns"
   ]
  },
  {
   "cell_type": "code",
   "execution_count": 142,
   "metadata": {},
   "outputs": [],
   "source": [
    "# b = binary\n",
    "# c = continuous\n",
    "# d = discrete\n",
    "\n",
    "variable_types = {\n",
    "    'gender': 'b',\n",
    "    'SeniorCitizen': 'b',\n",
    "    'Partner': 'b',\n",
    "    'Dependents': 'b',\n",
    "    'tenure': 'c',\n",
    "    'PhoneService': 'd',\n",
    "    'MultipleLines': 'd',\n",
    "    'InternetService': 'd',\n",
    "    'OnlineSecurity': 'd',\n",
    "    'OnlineBackup': 'd',\n",
    "    'DeviceProtection': 'd',\n",
    "    'TechSupport': 'd',\n",
    "    'StreamingTV': 'd',\n",
    "    'StreamingMovies': 'd',\n",
    "    'Contract': 'd',\n",
    "    'PaperlessBilling': 'd',\n",
    "    'PaymentMethod': 'd',\n",
    "    'MonthlyCharges': 'c',\n",
    "    'TotalCharges': 'c',\n",
    "    'Churn': 'b'\n",
    "}"
   ]
  },
  {
   "cell_type": "code",
   "execution_count": 143,
   "metadata": {},
   "outputs": [],
   "source": [
    "# convert binary variables\n",
    "\n",
    "def prep(df):\n",
    "    df = df.copy()\n",
    "    \n",
    "    for col, opt in column_options.items():\n",
    "        df[col] = df[col].map(opt)\n",
    "\n",
    "    return df"
   ]
  },
  {
   "cell_type": "code",
   "execution_count": 144,
   "metadata": {},
   "outputs": [],
   "source": [
    "churn_df = prep(df)"
   ]
  },
  {
   "cell_type": "code",
   "execution_count": 145,
   "metadata": {},
   "outputs": [],
   "source": [
    "model = 'digraph {  gender -> PhoneService;  gender -> InternetService;  gender -> OnlineSecurity;  gender -> OnlineBackup;  gender -> DeviceProtection;  gender -> TechSupport;  gender -> StreamingTV;  gender -> StreamingMovies;  gender -> Contract;  gender -> PaperlessBilling;  gender -> PaymentMethod;  gender -> MonthlyCharges;  gender -> Churn;  SeniorCitizen -> PhoneService;  SeniorCitizen -> InternetService;  SeniorCitizen -> OnlineSecurity;  SeniorCitizen -> OnlineBackup;  SeniorCitizen -> DeviceProtection;  SeniorCitizen -> TechSupport;  SeniorCitizen -> StreamingTV;  SeniorCitizen -> StreamingMovies;  SeniorCitizen -> Contract;  SeniorCitizen -> PaperlessBilling;  SeniorCitizen -> PaymentMethod;  SeniorCitizen -> MonthlyCharges;  SeniorCitizen -> Churn;  Partner -> PhoneService;  Partner -> InternetService;  Partner -> OnlineSecurity;  Partner -> OnlineBackup;  Partner -> DeviceProtection;  Partner -> TechSupport;  Partner -> StreamingTV;  Partner -> StreamingMovies;  Partner -> Contract;  Partner -> PaperlessBilling;  Partner -> PaymentMethod;  Partner -> MonthlyCharges;  Partner -> Churn;  Dependents -> PhoneService;  Dependents -> InternetService;  Dependents -> OnlineSecurity;  Dependents -> OnlineBackup;  Dependents -> DeviceProtection;  Dependents -> TechSupport;  Dependents -> StreamingTV;  Dependents -> StreamingMovies;  Dependents -> Contract;  Dependents -> PaperlessBilling;  Dependents -> PaymentMethod;  Dependents -> MonthlyCharges;  Dependents -> Churn;  PhoneService -> MultipleLines;  PhoneService -> DeviceProtection;  PhoneService -> Contract;  PhoneService -> MonthlyCharges;  InternetService -> OnlineSecurity;  InternetService -> OnlineBackup;  InternetService -> DeviceProtection;  InternetService -> TechSupport;  InternetService -> StreamingTV;  InternetService -> Contract;  InternetService -> PaperlessBilling;  InternetService -> MonthlyCharges;  StreamingTV -> StreamingMovies;  StreamingTV -> MonthlyCharges;  StreamingMovies -> MonthlyCharges;  OnlineSecurity -> MonthlyCharges;  OnlineBackup -> MonthlyCharges;  DeviceProtection -> MonthlyCharges;  Contract -> MonthlyCharges;  TechSupport -> MonthlyCharges;  TechSupport -> Churn;  PaymentMethod -> Churn;  tenure -> Churn;}'"
   ]
  },
  {
   "cell_type": "code",
   "execution_count": 147,
   "metadata": {},
   "outputs": [
    {
     "name": "stderr",
     "output_type": "stream",
     "text": [
      "ERROR:dowhy.causal_graph:Error: Pygraphviz cannot be loaded. No module named 'pygraphviz'\n",
      "Trying pydot ...\n",
      "INFO:dowhy.causal_graph:If this is observed data (not from a randomized experiment), there might always be missing confounders. Adding a node named \"Unobserved Confounders\" to reflect this.\n",
      "INFO:dowhy.causal_model:Model to find the causal effect of treatment ['TechSupport'] on outcome ['Churn']\n",
      "INFO:dowhy.causal_identifier:Common causes of treatment and outcome:['Partner', 'Dependents', 'gender', 'SeniorCitizen', 'U']\n",
      "WARNING:dowhy.causal_identifier:If this is observed data (not from a randomized experiment), there might always be missing confounders. Causal effect cannot be identified perfectly.\n",
      "INFO:dowhy.causal_identifier:Continuing by ignoring these unobserved confounders because proceed_when_unidentifiable flag is True.\n",
      "INFO:dowhy.causal_identifier:Instrumental variables for treatment and outcome:[]\n",
      "INFO:dowhy.do_sampler:Using WeightingSampler for do sampling.\n",
      "INFO:dowhy.do_sampler:Caution: do samplers assume iid data.\n"
     ]
    },
    {
     "data": {
      "text/html": [
       "<div>\n",
       "<style scoped>\n",
       "    .dataframe tbody tr th:only-of-type {\n",
       "        vertical-align: middle;\n",
       "    }\n",
       "\n",
       "    .dataframe tbody tr th {\n",
       "        vertical-align: top;\n",
       "    }\n",
       "\n",
       "    .dataframe thead th {\n",
       "        text-align: right;\n",
       "    }\n",
       "</style>\n",
       "<table border=\"1\" class=\"dataframe\">\n",
       "  <thead>\n",
       "    <tr style=\"text-align: right;\">\n",
       "      <th></th>\n",
       "      <th>gender</th>\n",
       "      <th>SeniorCitizen</th>\n",
       "      <th>Partner</th>\n",
       "      <th>Dependents</th>\n",
       "      <th>tenure</th>\n",
       "      <th>PhoneService</th>\n",
       "      <th>MultipleLines</th>\n",
       "      <th>InternetService</th>\n",
       "      <th>OnlineSecurity</th>\n",
       "      <th>OnlineBackup</th>\n",
       "      <th>...</th>\n",
       "      <th>TechSupport</th>\n",
       "      <th>StreamingTV</th>\n",
       "      <th>StreamingMovies</th>\n",
       "      <th>Contract</th>\n",
       "      <th>PaperlessBilling</th>\n",
       "      <th>PaymentMethod</th>\n",
       "      <th>MonthlyCharges</th>\n",
       "      <th>Churn</th>\n",
       "      <th>propensity_score</th>\n",
       "      <th>weight</th>\n",
       "    </tr>\n",
       "  </thead>\n",
       "  <tbody>\n",
       "    <tr>\n",
       "      <th>0</th>\n",
       "      <td>1</td>\n",
       "      <td>0</td>\n",
       "      <td>1</td>\n",
       "      <td>0</td>\n",
       "      <td>67</td>\n",
       "      <td>1</td>\n",
       "      <td>1</td>\n",
       "      <td>2</td>\n",
       "      <td>0</td>\n",
       "      <td>1</td>\n",
       "      <td>...</td>\n",
       "      <td>0</td>\n",
       "      <td>1</td>\n",
       "      <td>1</td>\n",
       "      <td>1</td>\n",
       "      <td>1</td>\n",
       "      <td>3</td>\n",
       "      <td>105.70</td>\n",
       "      <td>0</td>\n",
       "      <td>0.449503</td>\n",
       "      <td>2.224681</td>\n",
       "    </tr>\n",
       "    <tr>\n",
       "      <th>1</th>\n",
       "      <td>0</td>\n",
       "      <td>0</td>\n",
       "      <td>0</td>\n",
       "      <td>0</td>\n",
       "      <td>38</td>\n",
       "      <td>1</td>\n",
       "      <td>1</td>\n",
       "      <td>1</td>\n",
       "      <td>1</td>\n",
       "      <td>1</td>\n",
       "      <td>...</td>\n",
       "      <td>1</td>\n",
       "      <td>0</td>\n",
       "      <td>0</td>\n",
       "      <td>0</td>\n",
       "      <td>0</td>\n",
       "      <td>1</td>\n",
       "      <td>69.95</td>\n",
       "      <td>0</td>\n",
       "      <td>0.245664</td>\n",
       "      <td>4.070605</td>\n",
       "    </tr>\n",
       "    <tr>\n",
       "      <th>2</th>\n",
       "      <td>0</td>\n",
       "      <td>0</td>\n",
       "      <td>0</td>\n",
       "      <td>1</td>\n",
       "      <td>35</td>\n",
       "      <td>1</td>\n",
       "      <td>0</td>\n",
       "      <td>2</td>\n",
       "      <td>0</td>\n",
       "      <td>0</td>\n",
       "      <td>...</td>\n",
       "      <td>0</td>\n",
       "      <td>1</td>\n",
       "      <td>0</td>\n",
       "      <td>1</td>\n",
       "      <td>1</td>\n",
       "      <td>1</td>\n",
       "      <td>85.15</td>\n",
       "      <td>1</td>\n",
       "      <td>0.398307</td>\n",
       "      <td>2.510625</td>\n",
       "    </tr>\n",
       "    <tr>\n",
       "      <th>3</th>\n",
       "      <td>1</td>\n",
       "      <td>1</td>\n",
       "      <td>1</td>\n",
       "      <td>0</td>\n",
       "      <td>57</td>\n",
       "      <td>1</td>\n",
       "      <td>1</td>\n",
       "      <td>2</td>\n",
       "      <td>0</td>\n",
       "      <td>1</td>\n",
       "      <td>...</td>\n",
       "      <td>0</td>\n",
       "      <td>0</td>\n",
       "      <td>1</td>\n",
       "      <td>0</td>\n",
       "      <td>0</td>\n",
       "      <td>2</td>\n",
       "      <td>94.00</td>\n",
       "      <td>0</td>\n",
       "      <td>0.689392</td>\n",
       "      <td>1.450553</td>\n",
       "    </tr>\n",
       "    <tr>\n",
       "      <th>4</th>\n",
       "      <td>1</td>\n",
       "      <td>1</td>\n",
       "      <td>1</td>\n",
       "      <td>0</td>\n",
       "      <td>34</td>\n",
       "      <td>1</td>\n",
       "      <td>0</td>\n",
       "      <td>1</td>\n",
       "      <td>0</td>\n",
       "      <td>0</td>\n",
       "      <td>...</td>\n",
       "      <td>1</td>\n",
       "      <td>1</td>\n",
       "      <td>0</td>\n",
       "      <td>1</td>\n",
       "      <td>0</td>\n",
       "      <td>3</td>\n",
       "      <td>64.20</td>\n",
       "      <td>0</td>\n",
       "      <td>0.273973</td>\n",
       "      <td>3.649998</td>\n",
       "    </tr>\n",
       "    <tr>\n",
       "      <th>...</th>\n",
       "      <td>...</td>\n",
       "      <td>...</td>\n",
       "      <td>...</td>\n",
       "      <td>...</td>\n",
       "      <td>...</td>\n",
       "      <td>...</td>\n",
       "      <td>...</td>\n",
       "      <td>...</td>\n",
       "      <td>...</td>\n",
       "      <td>...</td>\n",
       "      <td>...</td>\n",
       "      <td>...</td>\n",
       "      <td>...</td>\n",
       "      <td>...</td>\n",
       "      <td>...</td>\n",
       "      <td>...</td>\n",
       "      <td>...</td>\n",
       "      <td>...</td>\n",
       "      <td>...</td>\n",
       "      <td>...</td>\n",
       "      <td>...</td>\n",
       "    </tr>\n",
       "    <tr>\n",
       "      <th>7038</th>\n",
       "      <td>0</td>\n",
       "      <td>0</td>\n",
       "      <td>1</td>\n",
       "      <td>1</td>\n",
       "      <td>33</td>\n",
       "      <td>1</td>\n",
       "      <td>0</td>\n",
       "      <td>0</td>\n",
       "      <td>-1</td>\n",
       "      <td>-1</td>\n",
       "      <td>...</td>\n",
       "      <td>-1</td>\n",
       "      <td>-1</td>\n",
       "      <td>-1</td>\n",
       "      <td>1</td>\n",
       "      <td>1</td>\n",
       "      <td>3</td>\n",
       "      <td>19.45</td>\n",
       "      <td>0</td>\n",
       "      <td>0.304753</td>\n",
       "      <td>3.281348</td>\n",
       "    </tr>\n",
       "    <tr>\n",
       "      <th>7039</th>\n",
       "      <td>0</td>\n",
       "      <td>0</td>\n",
       "      <td>1</td>\n",
       "      <td>1</td>\n",
       "      <td>50</td>\n",
       "      <td>1</td>\n",
       "      <td>0</td>\n",
       "      <td>0</td>\n",
       "      <td>-1</td>\n",
       "      <td>-1</td>\n",
       "      <td>...</td>\n",
       "      <td>-1</td>\n",
       "      <td>-1</td>\n",
       "      <td>-1</td>\n",
       "      <td>1</td>\n",
       "      <td>1</td>\n",
       "      <td>0</td>\n",
       "      <td>20.35</td>\n",
       "      <td>0</td>\n",
       "      <td>0.304753</td>\n",
       "      <td>3.281348</td>\n",
       "    </tr>\n",
       "    <tr>\n",
       "      <th>7040</th>\n",
       "      <td>1</td>\n",
       "      <td>0</td>\n",
       "      <td>1</td>\n",
       "      <td>1</td>\n",
       "      <td>23</td>\n",
       "      <td>1</td>\n",
       "      <td>1</td>\n",
       "      <td>1</td>\n",
       "      <td>1</td>\n",
       "      <td>0</td>\n",
       "      <td>...</td>\n",
       "      <td>1</td>\n",
       "      <td>1</td>\n",
       "      <td>0</td>\n",
       "      <td>2</td>\n",
       "      <td>1</td>\n",
       "      <td>3</td>\n",
       "      <td>77.15</td>\n",
       "      <td>0</td>\n",
       "      <td>0.362025</td>\n",
       "      <td>2.762243</td>\n",
       "    </tr>\n",
       "    <tr>\n",
       "      <th>7041</th>\n",
       "      <td>0</td>\n",
       "      <td>0</td>\n",
       "      <td>0</td>\n",
       "      <td>0</td>\n",
       "      <td>61</td>\n",
       "      <td>1</td>\n",
       "      <td>1</td>\n",
       "      <td>2</td>\n",
       "      <td>1</td>\n",
       "      <td>0</td>\n",
       "      <td>...</td>\n",
       "      <td>0</td>\n",
       "      <td>1</td>\n",
       "      <td>1</td>\n",
       "      <td>1</td>\n",
       "      <td>0</td>\n",
       "      <td>1</td>\n",
       "      <td>104.00</td>\n",
       "      <td>0</td>\n",
       "      <td>0.522241</td>\n",
       "      <td>1.914825</td>\n",
       "    </tr>\n",
       "    <tr>\n",
       "      <th>7042</th>\n",
       "      <td>0</td>\n",
       "      <td>0</td>\n",
       "      <td>0</td>\n",
       "      <td>0</td>\n",
       "      <td>4</td>\n",
       "      <td>1</td>\n",
       "      <td>1</td>\n",
       "      <td>0</td>\n",
       "      <td>-1</td>\n",
       "      <td>-1</td>\n",
       "      <td>...</td>\n",
       "      <td>-1</td>\n",
       "      <td>-1</td>\n",
       "      <td>-1</td>\n",
       "      <td>0</td>\n",
       "      <td>0</td>\n",
       "      <td>0</td>\n",
       "      <td>25.25</td>\n",
       "      <td>0</td>\n",
       "      <td>0.232095</td>\n",
       "      <td>4.308576</td>\n",
       "    </tr>\n",
       "  </tbody>\n",
       "</table>\n",
       "<p>7043 rows × 21 columns</p>\n",
       "</div>"
      ],
      "text/plain": [
       "      gender  SeniorCitizen  Partner  Dependents  tenure  PhoneService  \\\n",
       "0          1              0        1           0      67             1   \n",
       "1          0              0        0           0      38             1   \n",
       "2          0              0        0           1      35             1   \n",
       "3          1              1        1           0      57             1   \n",
       "4          1              1        1           0      34             1   \n",
       "...      ...            ...      ...         ...     ...           ...   \n",
       "7038       0              0        1           1      33             1   \n",
       "7039       0              0        1           1      50             1   \n",
       "7040       1              0        1           1      23             1   \n",
       "7041       0              0        0           0      61             1   \n",
       "7042       0              0        0           0       4             1   \n",
       "\n",
       "      MultipleLines  InternetService  OnlineSecurity  OnlineBackup  ...  \\\n",
       "0                 1                2               0             1  ...   \n",
       "1                 1                1               1             1  ...   \n",
       "2                 0                2               0             0  ...   \n",
       "3                 1                2               0             1  ...   \n",
       "4                 0                1               0             0  ...   \n",
       "...             ...              ...             ...           ...  ...   \n",
       "7038              0                0              -1            -1  ...   \n",
       "7039              0                0              -1            -1  ...   \n",
       "7040              1                1               1             0  ...   \n",
       "7041              1                2               1             0  ...   \n",
       "7042              1                0              -1            -1  ...   \n",
       "\n",
       "      TechSupport  StreamingTV  StreamingMovies  Contract  PaperlessBilling  \\\n",
       "0               0            1                1         1                 1   \n",
       "1               1            0                0         0                 0   \n",
       "2               0            1                0         1                 1   \n",
       "3               0            0                1         0                 0   \n",
       "4               1            1                0         1                 0   \n",
       "...           ...          ...              ...       ...               ...   \n",
       "7038           -1           -1               -1         1                 1   \n",
       "7039           -1           -1               -1         1                 1   \n",
       "7040            1            1                0         2                 1   \n",
       "7041            0            1                1         1                 0   \n",
       "7042           -1           -1               -1         0                 0   \n",
       "\n",
       "      PaymentMethod  MonthlyCharges  Churn  propensity_score    weight  \n",
       "0                 3          105.70      0          0.449503  2.224681  \n",
       "1                 1           69.95      0          0.245664  4.070605  \n",
       "2                 1           85.15      1          0.398307  2.510625  \n",
       "3                 2           94.00      0          0.689392  1.450553  \n",
       "4                 3           64.20      0          0.273973  3.649998  \n",
       "...             ...             ...    ...               ...       ...  \n",
       "7038              3           19.45      0          0.304753  3.281348  \n",
       "7039              0           20.35      0          0.304753  3.281348  \n",
       "7040              3           77.15      0          0.362025  2.762243  \n",
       "7041              1          104.00      0          0.522241  1.914825  \n",
       "7042              0           25.25      0          0.232095  4.308576  \n",
       "\n",
       "[7043 rows x 21 columns]"
      ]
     },
     "execution_count": 147,
     "metadata": {},
     "output_type": "execute_result"
    }
   ],
   "source": [
    "churn_df.causal.do(\n",
    "    x='TechSupport',\n",
    "    outcome='Churn',\n",
    "    variable_types=variable_types,\n",
    "    dot_graph=model,\n",
    "    proceed_when_unidentifiable=True)"
   ]
  },
  {
   "cell_type": "code",
   "execution_count": 148,
   "metadata": {},
   "outputs": [
    {
     "name": "stderr",
     "output_type": "stream",
     "text": [
      "ERROR:dowhy.causal_graph:Error: Pygraphviz cannot be loaded. No module named 'pygraphviz'\n",
      "Trying pydot ...\n",
      "INFO:dowhy.causal_graph:If this is observed data (not from a randomized experiment), there might always be missing confounders. Adding a node named \"Unobserved Confounders\" to reflect this.\n",
      "INFO:dowhy.causal_model:Model to find the causal effect of treatment ['TechSupport'] on outcome ['Churn']\n",
      "INFO:dowhy.causal_identifier:Common causes of treatment and outcome:['Partner', 'Dependents', 'gender', 'SeniorCitizen', 'U']\n",
      "WARNING:dowhy.causal_identifier:If this is observed data (not from a randomized experiment), there might always be missing confounders. Causal effect cannot be identified perfectly.\n",
      "INFO:dowhy.causal_identifier:Continuing by ignoring these unobserved confounders because proceed_when_unidentifiable flag is True.\n",
      "INFO:dowhy.causal_identifier:Instrumental variables for treatment and outcome:[]\n",
      "INFO:dowhy.do_sampler:Using WeightingSampler for do sampling.\n",
      "INFO:dowhy.do_sampler:Caution: do samplers assume iid data.\n",
      "ERROR:dowhy.causal_graph:Error: Pygraphviz cannot be loaded. No module named 'pygraphviz'\n",
      "Trying pydot ...\n",
      "INFO:dowhy.causal_graph:If this is observed data (not from a randomized experiment), there might always be missing confounders. Adding a node named \"Unobserved Confounders\" to reflect this.\n",
      "INFO:dowhy.causal_model:Model to find the causal effect of treatment ['TechSupport'] on outcome ['Churn']\n",
      "INFO:dowhy.causal_identifier:Common causes of treatment and outcome:['Partner', 'Dependents', 'gender', 'SeniorCitizen', 'U']\n",
      "WARNING:dowhy.causal_identifier:If this is observed data (not from a randomized experiment), there might always be missing confounders. Causal effect cannot be identified perfectly.\n",
      "INFO:dowhy.causal_identifier:Continuing by ignoring these unobserved confounders because proceed_when_unidentifiable flag is True.\n",
      "INFO:dowhy.causal_identifier:Instrumental variables for treatment and outcome:[]\n",
      "INFO:dowhy.do_sampler:Using WeightingSampler for do sampling.\n",
      "INFO:dowhy.do_sampler:Caution: do samplers assume iid data.\n"
     ]
    }
   ],
   "source": [
    "tech_support_on = churn_df.causal.do(\n",
    "    x={'TechSupport': 1},\n",
    "    outcome='Churn',\n",
    "    variable_types=variable_types,\n",
    "    dot_graph=model,\n",
    "    proceed_when_unidentifiable=True\n",
    ")\n",
    "\n",
    "tech_support_on = churn_df.causal.do(\n",
    "    x={'TechSupport': 0},\n",
    "    outcome='Churn',\n",
    "    variable_types=variable_types,\n",
    "    dot_graph=model,\n",
    "    proceed_when_unidentifiable=True\n",
    ")"
   ]
  },
  {
   "cell_type": "code",
   "execution_count": 149,
   "metadata": {},
   "outputs": [
    {
     "data": {
      "image/png": "[encoded data removed]",
      "text/latex": [
       "$\\displaystyle 0.01178475081641346$"
      ],
      "text/plain": [
       "0.01178475081641346"
      ]
     },
     "execution_count": 149,
     "metadata": {},
     "output_type": "execute_result"
    }
   ],
   "source": [
    "(tech_support_on['Churn'] - tech_support_off['Churn']).mean()"
   ]
  },
  {
   "cell_type": "code",
   "execution_count": 150,
   "metadata": {},
   "outputs": [
    {
     "name": "stderr",
     "output_type": "stream",
     "text": [
      "ERROR:dowhy.causal_graph:Error: Pygraphviz cannot be loaded. No module named 'pygraphviz'\n",
      "Trying pydot ...\n",
      "INFO:dowhy.causal_graph:If this is observed data (not from a randomized experiment), there might always be missing confounders. Adding a node named \"Unobserved Confounders\" to reflect this.\n",
      "INFO:dowhy.causal_model:Model to find the causal effect of treatment ['gender'] on outcome ['Churn']\n",
      "INFO:dowhy.causal_identifier:Common causes of treatment and outcome:['U']\n",
      "WARNING:dowhy.causal_identifier:If this is observed data (not from a randomized experiment), there might always be missing confounders. Causal effect cannot be identified perfectly.\n",
      "INFO:dowhy.causal_identifier:Continuing by ignoring these unobserved confounders because proceed_when_unidentifiable flag is True.\n",
      "INFO:dowhy.causal_identifier:Instrumental variables for treatment and outcome:[]\n",
      "INFO:dowhy.do_sampler:Using McmcSampler for do sampling.\n"
     ]
    },
    {
     "ename": "Exception",
     "evalue": "Unrecognized variable type: d",
     "output_type": "error",
     "traceback": [
      "\u001b[0;31m---------------------------------------------------------------------------\u001b[0m",
      "\u001b[0;31mException\u001b[0m                                 Traceback (most recent call last)",
      "\u001b[0;32m<ipython-input-150-f744438c82a2>\u001b[0m in \u001b[0;36m<module>\u001b[0;34m\u001b[0m\n\u001b[1;32m      5\u001b[0m     \u001b[0mdot_graph\u001b[0m\u001b[0;34m=\u001b[0m\u001b[0mmodel\u001b[0m\u001b[0;34m,\u001b[0m\u001b[0;34m\u001b[0m\u001b[0;34m\u001b[0m\u001b[0m\n\u001b[1;32m      6\u001b[0m     \u001b[0mmethod\u001b[0m\u001b[0;34m=\u001b[0m\u001b[0;34m'mcmc'\u001b[0m\u001b[0;34m,\u001b[0m\u001b[0;34m\u001b[0m\u001b[0;34m\u001b[0m\u001b[0m\n\u001b[0;32m----> 7\u001b[0;31m     \u001b[0mproceed_when_unidentifiable\u001b[0m\u001b[0;34m=\u001b[0m\u001b[0;32mTrue\u001b[0m\u001b[0;34m\u001b[0m\u001b[0;34m\u001b[0m\u001b[0m\n\u001b[0m\u001b[1;32m      8\u001b[0m )\n",
      "\u001b[0;32m~/Code/fastforwardlabs/causal-experiments/.venv/lib/python3.7/site-packages/dowhy/api/causal_data_frame.py\u001b[0m in \u001b[0;36mdo\u001b[0;34m(self, x, method, num_cores, variable_types, outcome, params, dot_graph, common_causes, estimand_type, proceed_when_unidentifiable, stateful)\u001b[0m\n\u001b[1;32m    100\u001b[0m                                              \u001b[0mnum_cores\u001b[0m\u001b[0;34m=\u001b[0m\u001b[0mnum_cores\u001b[0m\u001b[0;34m,\u001b[0m\u001b[0;34m\u001b[0m\u001b[0;34m\u001b[0m\u001b[0m\n\u001b[1;32m    101\u001b[0m                                              \u001b[0mcausal_model\u001b[0m\u001b[0;34m=\u001b[0m\u001b[0mself\u001b[0m\u001b[0;34m.\u001b[0m\u001b[0m_causal_model\u001b[0m\u001b[0;34m,\u001b[0m\u001b[0;34m\u001b[0m\u001b[0;34m\u001b[0m\u001b[0m\n\u001b[0;32m--> 102\u001b[0;31m                                              keep_original_treatment=keep_original_treatment)\n\u001b[0m\u001b[1;32m    103\u001b[0m         \u001b[0mresult\u001b[0m \u001b[0;34m=\u001b[0m \u001b[0mself\u001b[0m\u001b[0;34m.\u001b[0m\u001b[0m_sampler\u001b[0m\u001b[0;34m.\u001b[0m\u001b[0mdo_sample\u001b[0m\u001b[0;34m(\u001b[0m\u001b[0mx\u001b[0m\u001b[0;34m)\u001b[0m\u001b[0;34m\u001b[0m\u001b[0;34m\u001b[0m\u001b[0m\n\u001b[1;32m    104\u001b[0m         \u001b[0;32mif\u001b[0m \u001b[0;32mnot\u001b[0m \u001b[0mstateful\u001b[0m\u001b[0;34m:\u001b[0m\u001b[0;34m\u001b[0m\u001b[0;34m\u001b[0m\u001b[0m\n",
      "\u001b[0;32m~/Code/fastforwardlabs/causal-experiments/.venv/lib/python3.7/site-packages/dowhy/do_samplers/mcmc_sampler.py\u001b[0m in \u001b[0;36m__init__\u001b[0;34m(self, data, params, variable_types, num_cores, keep_original_treatment, causal_model, *args, **kwargs)\u001b[0m\n\u001b[1;32m     25\u001b[0m         _, self.fit_trace = self.fit_causal_model(g_fit,\n\u001b[1;32m     26\u001b[0m                                                   \u001b[0mself\u001b[0m\u001b[0;34m.\u001b[0m\u001b[0m_data\u001b[0m\u001b[0;34m,\u001b[0m\u001b[0;34m\u001b[0m\u001b[0;34m\u001b[0m\u001b[0m\n\u001b[0;32m---> 27\u001b[0;31m                                                   self._variable_types)\n\u001b[0m\u001b[1;32m     28\u001b[0m \u001b[0;34m\u001b[0m\u001b[0m\n\u001b[1;32m     29\u001b[0m     \u001b[0;32mdef\u001b[0m \u001b[0mapply_data_types\u001b[0m\u001b[0;34m(\u001b[0m\u001b[0mself\u001b[0m\u001b[0;34m,\u001b[0m \u001b[0mg\u001b[0m\u001b[0;34m,\u001b[0m \u001b[0mdata_types\u001b[0m\u001b[0;34m)\u001b[0m\u001b[0;34m:\u001b[0m\u001b[0;34m\u001b[0m\u001b[0;34m\u001b[0m\u001b[0m\n",
      "\u001b[0;32m~/Code/fastforwardlabs/causal-experiments/.venv/lib/python3.7/site-packages/dowhy/do_samplers/mcmc_sampler.py\u001b[0m in \u001b[0;36mfit_causal_model\u001b[0;34m(self, g, df, data_types, initialization_trace)\u001b[0m\n\u001b[1;32m     80\u001b[0m                 \u001b[0mg\u001b[0m \u001b[0;34m=\u001b[0m \u001b[0mself\u001b[0m\u001b[0;34m.\u001b[0m\u001b[0mapply_parents\u001b[0m\u001b[0;34m(\u001b[0m\u001b[0mg\u001b[0m\u001b[0;34m)\u001b[0m\u001b[0;34m\u001b[0m\u001b[0;34m\u001b[0m\u001b[0m\n\u001b[1;32m     81\u001b[0m                 \u001b[0mg\u001b[0m \u001b[0;34m=\u001b[0m \u001b[0mself\u001b[0m\u001b[0;34m.\u001b[0m\u001b[0mapply_parameters\u001b[0m\u001b[0;34m(\u001b[0m\u001b[0mg\u001b[0m\u001b[0;34m,\u001b[0m \u001b[0mdf\u001b[0m\u001b[0;34m,\u001b[0m \u001b[0minitialization_trace\u001b[0m\u001b[0;34m=\u001b[0m\u001b[0minitialization_trace\u001b[0m\u001b[0;34m)\u001b[0m\u001b[0;34m\u001b[0m\u001b[0;34m\u001b[0m\u001b[0m\n\u001b[0;32m---> 82\u001b[0;31m                 \u001b[0mg\u001b[0m \u001b[0;34m=\u001b[0m \u001b[0mself\u001b[0m\u001b[0;34m.\u001b[0m\u001b[0mbuild_bayesian_network\u001b[0m\u001b[0;34m(\u001b[0m\u001b[0mg\u001b[0m\u001b[0;34m,\u001b[0m \u001b[0mdf\u001b[0m\u001b[0;34m)\u001b[0m\u001b[0;34m\u001b[0m\u001b[0;34m\u001b[0m\u001b[0m\n\u001b[0m\u001b[1;32m     83\u001b[0m                 \u001b[0mtrace\u001b[0m \u001b[0;34m=\u001b[0m \u001b[0mpm\u001b[0m\u001b[0;34m.\u001b[0m\u001b[0msample\u001b[0m\u001b[0;34m(\u001b[0m\u001b[0;36m1000\u001b[0m\u001b[0;34m,\u001b[0m \u001b[0mtune\u001b[0m\u001b[0;34m=\u001b[0m\u001b[0;36m1000\u001b[0m\u001b[0;34m)\u001b[0m\u001b[0;34m\u001b[0m\u001b[0;34m\u001b[0m\u001b[0m\n\u001b[1;32m     84\u001b[0m         \u001b[0;32melse\u001b[0m\u001b[0;34m:\u001b[0m\u001b[0;34m\u001b[0m\u001b[0;34m\u001b[0m\u001b[0m\n",
      "\u001b[0;32m~/Code/fastforwardlabs/causal-experiments/.venv/lib/python3.7/site-packages/dowhy/do_samplers/mcmc_sampler.py\u001b[0m in \u001b[0;36mbuild_bayesian_network\u001b[0;34m(self, g, df)\u001b[0m\n\u001b[1;32m     71\u001b[0m                                                                observed=df[node])\n\u001b[1;32m     72\u001b[0m                 \u001b[0;32melse\u001b[0m\u001b[0;34m:\u001b[0m\u001b[0;34m\u001b[0m\u001b[0;34m\u001b[0m\u001b[0m\n\u001b[0;32m---> 73\u001b[0;31m                     \u001b[0;32mraise\u001b[0m \u001b[0mException\u001b[0m\u001b[0;34m(\u001b[0m\u001b[0;34m\"Unrecognized variable type: {}\"\u001b[0m\u001b[0;34m.\u001b[0m\u001b[0mformat\u001b[0m\u001b[0;34m(\u001b[0m\u001b[0mg\u001b[0m\u001b[0;34m.\u001b[0m\u001b[0mnodes\u001b[0m\u001b[0;34m(\u001b[0m\u001b[0;34m)\u001b[0m\u001b[0;34m[\u001b[0m\u001b[0mnode\u001b[0m\u001b[0;34m]\u001b[0m\u001b[0;34m[\u001b[0m\u001b[0;34m\"variable_type\"\u001b[0m\u001b[0;34m]\u001b[0m\u001b[0;34m)\u001b[0m\u001b[0;34m)\u001b[0m\u001b[0;34m\u001b[0m\u001b[0;34m\u001b[0m\u001b[0m\n\u001b[0m\u001b[1;32m     74\u001b[0m         \u001b[0;32mreturn\u001b[0m \u001b[0mg\u001b[0m\u001b[0;34m\u001b[0m\u001b[0;34m\u001b[0m\u001b[0m\n\u001b[1;32m     75\u001b[0m \u001b[0;34m\u001b[0m\u001b[0m\n",
      "\u001b[0;31mException\u001b[0m: Unrecognized variable type: d"
     ]
    }
   ],
   "source": [
    "male = churn_df.causal.do(\n",
    "    x={'gender': 0},\n",
    "    outcome='Churn',\n",
    "    variable_types=variable_types,\n",
    "    dot_graph=model,\n",
    "    method='mcmc',\n",
    "    proceed_when_unidentifiable=True\n",
    ")"
   ]
  },
  {
   "cell_type": "code",
   "execution_count": 151,
   "metadata": {},
   "outputs": [],
   "source": [
    "from dowhy.causal_model import CausalModel"
   ]
  },
  {
   "cell_type": "code",
   "execution_count": 154,
   "metadata": {},
   "outputs": [
    {
     "name": "stderr",
     "output_type": "stream",
     "text": [
      "ERROR:dowhy.causal_graph:Error: Pygraphviz cannot be loaded. No module named 'pygraphviz'\n",
      "Trying pydot ...\n",
      "INFO:dowhy.causal_graph:If this is observed data (not from a randomized experiment), there might always be missing confounders. Adding a node named \"Unobserved Confounders\" to reflect this.\n",
      "INFO:dowhy.causal_model:Model to find the causal effect of treatment ['gender'] on outcome ['Churn']\n"
     ]
    }
   ],
   "source": [
    "cm = CausalModel(\n",
    "    data=churn_df,\n",
    "    treatment='gender',\n",
    "    outcome='Churn',\n",
    "    graph=model\n",
    ")"
   ]
  },
  {
   "cell_type": "code",
   "execution_count": 157,
   "metadata": {},
   "outputs": [
    {
     "name": "stderr",
     "output_type": "stream",
     "text": [
      "INFO:dowhy.causal_identifier:Common causes of treatment and outcome:['U']\n",
      "WARNING:dowhy.causal_identifier:If this is observed data (not from a randomized experiment), there might always be missing confounders. Causal effect cannot be identified perfectly.\n"
     ]
    },
    {
     "name": "stdin",
     "output_type": "stream",
     "text": [
      "WARN: Do you want to continue by ignoring any unobserved confounders? (use proceed_when_unidentifiable=True to disable this prompt) [y/n]  y\n"
     ]
    },
    {
     "name": "stderr",
     "output_type": "stream",
     "text": [
      "INFO:dowhy.causal_identifier:Instrumental variables for treatment and outcome:[]\n"
     ]
    }
   ],
   "source": [
    "estimable = cm.identify_effect()"
   ]
  },
  {
   "cell_type": "code",
   "execution_count": 159,
   "metadata": {},
   "outputs": [
    {
     "name": "stdout",
     "output_type": "stream",
     "text": [
      "Estimand type: nonparametric-ate\n",
      "### Estimand : 1\n",
      "Estimand name: backdoor\n",
      "Estimand expression:\n",
      "    d                        \n",
      "─────────(Expectation(Churn))\n",
      "d[gender]                    \n",
      "Estimand assumption 1, Unconfoundedness: If U→{gender} and U→Churn then P(Churn|gender,,U) = P(Churn|gender,)\n",
      "### Estimand : 2\n",
      "Estimand name: iv\n",
      "No such variable found!\n",
      "\n"
     ]
    }
   ],
   "source": [
    "print(estimable)"
   ]
  },
  {
   "cell_type": "code",
   "execution_count": 165,
   "metadata": {},
   "outputs": [
    {
     "ename": "Exception",
     "evalue": "Propensity Score Weighting method is only applicable for binary treatments. Try explictly setting dtype=bool for the treatment column.",
     "output_type": "error",
     "traceback": [
      "\u001b[0;31m---------------------------------------------------------------------------\u001b[0m",
      "\u001b[0;31mException\u001b[0m                                 Traceback (most recent call last)",
      "\u001b[0;32m<ipython-input-165-930eaab0bfb4>\u001b[0m in \u001b[0;36m<module>\u001b[0;34m\u001b[0m\n\u001b[0;32m----> 1\u001b[0;31m \u001b[0mprint\u001b[0m\u001b[0;34m(\u001b[0m\u001b[0mcm\u001b[0m\u001b[0;34m.\u001b[0m\u001b[0mestimate_effect\u001b[0m\u001b[0;34m(\u001b[0m\u001b[0mestimable\u001b[0m\u001b[0;34m,\u001b[0m \u001b[0mmethod_name\u001b[0m\u001b[0;34m=\u001b[0m\u001b[0;34m'backdoor.propensity_score_weighting'\u001b[0m\u001b[0;34m)\u001b[0m\u001b[0;34m)\u001b[0m\u001b[0;34m\u001b[0m\u001b[0;34m\u001b[0m\u001b[0m\n\u001b[0m",
      "\u001b[0;32m~/Code/fastforwardlabs/causal-experiments/.venv/lib/python3.7/site-packages/dowhy/causal_model.py\u001b[0m in \u001b[0;36mestimate_effect\u001b[0;34m(self, identified_estimand, method_name, control_value, treatment_value, test_significance, evaluate_effect_strength, confidence_intervals, target_units, effect_modifiers, method_params)\u001b[0m\n\u001b[1;32m    213\u001b[0m                 \u001b[0mtarget_units\u001b[0m \u001b[0;34m=\u001b[0m \u001b[0mtarget_units\u001b[0m\u001b[0;34m,\u001b[0m\u001b[0;34m\u001b[0m\u001b[0;34m\u001b[0m\u001b[0m\n\u001b[1;32m    214\u001b[0m                 \u001b[0meffect_modifiers\u001b[0m \u001b[0;34m=\u001b[0m \u001b[0meffect_modifiers\u001b[0m\u001b[0;34m,\u001b[0m\u001b[0;34m\u001b[0m\u001b[0;34m\u001b[0m\u001b[0m\n\u001b[0;32m--> 215\u001b[0;31m                 \u001b[0mparams\u001b[0m\u001b[0;34m=\u001b[0m\u001b[0mmethod_params\u001b[0m\u001b[0;34m\u001b[0m\u001b[0;34m\u001b[0m\u001b[0m\n\u001b[0m\u001b[1;32m    216\u001b[0m             )\n\u001b[1;32m    217\u001b[0m             \u001b[0mestimate\u001b[0m \u001b[0;34m=\u001b[0m \u001b[0mcausal_estimator\u001b[0m\u001b[0;34m.\u001b[0m\u001b[0mestimate_effect\u001b[0m\u001b[0;34m(\u001b[0m\u001b[0;34m)\u001b[0m\u001b[0;34m\u001b[0m\u001b[0;34m\u001b[0m\u001b[0m\n",
      "\u001b[0;32m~/Code/fastforwardlabs/causal-experiments/.venv/lib/python3.7/site-packages/dowhy/causal_estimators/propensity_score_weighting_estimator.py\u001b[0m in \u001b[0;36m__init__\u001b[0;34m(self, min_ps_score, max_ps_score, *args, **kwargs)\u001b[0m\n\u001b[1;32m     28\u001b[0m         \u001b[0;32mif\u001b[0m \u001b[0;32mnot\u001b[0m \u001b[0mpd\u001b[0m\u001b[0;34m.\u001b[0m\u001b[0mapi\u001b[0m\u001b[0;34m.\u001b[0m\u001b[0mtypes\u001b[0m\u001b[0;34m.\u001b[0m\u001b[0mis_bool_dtype\u001b[0m\u001b[0;34m(\u001b[0m\u001b[0mself\u001b[0m\u001b[0;34m.\u001b[0m\u001b[0m_data\u001b[0m\u001b[0;34m[\u001b[0m\u001b[0mself\u001b[0m\u001b[0;34m.\u001b[0m\u001b[0m_treatment_name\u001b[0m\u001b[0;34m[\u001b[0m\u001b[0;36m0\u001b[0m\u001b[0;34m]\u001b[0m\u001b[0;34m]\u001b[0m\u001b[0;34m)\u001b[0m\u001b[0;34m:\u001b[0m\u001b[0;34m\u001b[0m\u001b[0;34m\u001b[0m\u001b[0m\n\u001b[1;32m     29\u001b[0m             \u001b[0merror_msg\u001b[0m \u001b[0;34m=\u001b[0m \u001b[0;34m\"Propensity Score Weighting method is only applicable for binary treatments. Try explictly setting dtype=bool for the treatment column.\"\u001b[0m\u001b[0;34m\u001b[0m\u001b[0;34m\u001b[0m\u001b[0m\n\u001b[0;32m---> 30\u001b[0;31m             \u001b[0;32mraise\u001b[0m \u001b[0mException\u001b[0m\u001b[0;34m(\u001b[0m\u001b[0merror_msg\u001b[0m\u001b[0;34m)\u001b[0m\u001b[0;34m\u001b[0m\u001b[0;34m\u001b[0m\u001b[0m\n\u001b[0m\u001b[1;32m     31\u001b[0m \u001b[0;34m\u001b[0m\u001b[0m\n\u001b[1;32m     32\u001b[0m         self.logger.debug(\"Back-door variables used:\" +\n",
      "\u001b[0;31mException\u001b[0m: Propensity Score Weighting method is only applicable for binary treatments. Try explictly setting dtype=bool for the treatment column."
     ]
    }
   ],
   "source": [
    "print(cm.estimate_effect(estimable, method_name='backdoor.propensity_score_weighting'))"
   ]
  },
  {
   "cell_type": "code",
   "execution_count": null,
   "metadata": {},
   "outputs": [],
   "source": []
  }
 ],
 "metadata": {
  "kernelspec": {
   "display_name": "Python 3",
   "language": "python",
   "name": "python3"
  },
  "language_info": {
   "codemirror_mode": {
    "name": "ipython",
    "version": 3
   },
   "file_extension": ".py",
   "mimetype": "text/x-python",
   "name": "python",
   "nbconvert_exporter": "python",
   "pygments_lexer": "ipython3",
   "version": "3.7.3"
  }
 },
 "nbformat": 4,
 "nbformat_minor": 4
}
